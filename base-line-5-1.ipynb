{
 "cells": [
  {
   "cell_type": "markdown",
   "metadata": {
    "papermill": {
     "duration": 0.011064,
     "end_time": "2024-03-02T18:45:33.894952",
     "exception": false,
     "start_time": "2024-03-02T18:45:33.883888",
     "status": "completed"
    },
    "tags": []
   },
   "source": [
    "# Плотное векторное представление слов для определения тональности текста отзывов на фильмы из IMDb (Internet Movie Database) \n",
    "\n",
    "Учебный курс \"[Нейросети для анализа текстов](https://www.asozykin.ru/courses/nnpython)\"."
   ]
  },
  {
   "cell_type": "code",
   "execution_count": 1,
   "metadata": {
    "_cell_guid": "b1076dfc-b9ad-4769-8c92-a6c4dae69d19",
    "_uuid": "8f2839f25d086af736a60e9eeb907d3b93b6e0e5",
    "execution": {
     "iopub.execute_input": "2024-03-02T18:45:33.924793Z",
     "iopub.status.busy": "2024-03-02T18:45:33.923952Z",
     "iopub.status.idle": "2024-03-02T18:45:38.760406Z",
     "shell.execute_reply": "2024-03-02T18:45:38.760919Z",
     "shell.execute_reply.started": "2024-03-02T18:43:57.500760Z"
    },
    "papermill": {
     "duration": 4.856378,
     "end_time": "2024-03-02T18:45:38.761207",
     "exception": false,
     "start_time": "2024-03-02T18:45:33.904829",
     "status": "completed"
    },
    "tags": []
   },
   "outputs": [
    {
     "name": "stdout",
     "output_type": "stream",
     "text": [
      "/kaggle/input/dl-urfu-imdb/train.npy\n",
      "/kaggle/input/dl-urfu-imdb/train_label.npy\n",
      "/kaggle/input/dl-urfu-imdb/sample_supmission.csv\n",
      "/kaggle/input/dl-urfu-imdb/test.npy\n"
     ]
    }
   ],
   "source": [
    "from tensorflow.keras.datasets import imdb\n",
    "from tensorflow.keras.models import Sequential\n",
    "from tensorflow.keras.layers import Dense, Embedding, Flatten, Dropout\n",
    "from tensorflow.keras.callbacks import EarlyStopping\n",
    "from tensorflow.keras import utils\n",
    "from tensorflow.keras.preprocessing.sequence import pad_sequences\n",
    "# работа с обратной связью от обучающейся нейронной сети\n",
    "from tensorflow.keras.callbacks import EarlyStopping, ModelCheckpoint, ReduceLROnPlateau\n",
    "import numpy as np\n",
    "import pandas as pd\n",
    "import matplotlib.pyplot as plt\n",
    "%matplotlib inline \n",
    "import os\n",
    "for dirname, _, filenames in os.walk('/kaggle/input'):\n",
    "    for filename in filenames:\n",
    "        print(os.path.join(dirname, filename))"
   ]
  },
  {
   "cell_type": "markdown",
   "metadata": {
    "papermill": {
     "duration": 0.009857,
     "end_time": "2024-03-02T18:45:38.781691",
     "exception": false,
     "start_time": "2024-03-02T18:45:38.771834",
     "status": "completed"
    },
    "tags": []
   },
   "source": [
    "Загружаем данные"
   ]
  },
  {
   "cell_type": "code",
   "execution_count": 2,
   "metadata": {
    "_cell_guid": "79c7e3d0-c299-4dcb-8224-4455121ee9b0",
    "_uuid": "d629ff2d2480ee46fbb7e2d37f6b5fab8052498a",
    "execution": {
     "iopub.execute_input": "2024-03-02T18:45:38.806629Z",
     "iopub.status.busy": "2024-03-02T18:45:38.805976Z",
     "iopub.status.idle": "2024-03-02T18:45:39.740423Z",
     "shell.execute_reply": "2024-03-02T18:45:39.739802Z",
     "shell.execute_reply.started": "2024-03-02T18:43:57.517012Z"
    },
    "papermill": {
     "duration": 0.948821,
     "end_time": "2024-03-02T18:45:39.740566",
     "exception": false,
     "start_time": "2024-03-02T18:45:38.791745",
     "status": "completed"
    },
    "tags": []
   },
   "outputs": [
    {
     "data": {
      "text/plain": [
       "((46000,), (46000,), (4000,))"
      ]
     },
     "execution_count": 2,
     "metadata": {},
     "output_type": "execute_result"
    }
   ],
   "source": [
    "KAGGLE_PATH = '/kaggle/input/dl-urfu-imdb/'\n",
    "x_train = np.load(KAGGLE_PATH + 'train.npy', allow_pickle=True)\n",
    "y_train = np.load(KAGGLE_PATH + 'train_label.npy', allow_pickle=True)\n",
    "x_test = np.load(KAGGLE_PATH + 'test.npy', allow_pickle=True)\n",
    "x_train.shape, y_train.shape, x_test.shape, "
   ]
  },
  {
   "cell_type": "markdown",
   "metadata": {
    "papermill": {
     "duration": 0.01037,
     "end_time": "2024-03-02T18:45:39.761546",
     "exception": false,
     "start_time": "2024-03-02T18:45:39.751176",
     "status": "completed"
    },
    "tags": []
   },
   "source": [
    "## Подготовка данных для обучения"
   ]
  },
  {
   "cell_type": "code",
   "execution_count": 3,
   "metadata": {
    "execution": {
     "iopub.execute_input": "2024-03-02T18:45:39.796873Z",
     "iopub.status.busy": "2024-03-02T18:45:39.795079Z",
     "iopub.status.idle": "2024-03-02T18:45:41.890303Z",
     "shell.execute_reply": "2024-03-02T18:45:41.889738Z",
     "shell.execute_reply.started": "2024-03-02T18:43:58.446380Z"
    },
    "papermill": {
     "duration": 2.118512,
     "end_time": "2024-03-02T18:45:41.890459",
     "exception": false,
     "start_time": "2024-03-02T18:45:39.771947",
     "status": "completed"
    },
    "tags": []
   },
   "outputs": [],
   "source": [
    "max_words = 10_000\n",
    "maxlen = 250\n",
    "x_train = pad_sequences(x_train, maxlen=maxlen, padding='post')\n",
    "x_test = pad_sequences(x_test, maxlen=maxlen, padding='post')"
   ]
  },
  {
   "cell_type": "markdown",
   "metadata": {
    "papermill": {
     "duration": 0.010251,
     "end_time": "2024-03-02T18:45:41.911327",
     "exception": false,
     "start_time": "2024-03-02T18:45:41.901076",
     "status": "completed"
    },
    "tags": []
   },
   "source": [
    "## Создание нейронной сети"
   ]
  },
  {
   "cell_type": "code",
   "execution_count": 4,
   "metadata": {
    "execution": {
     "iopub.execute_input": "2024-03-02T18:45:41.937051Z",
     "iopub.status.busy": "2024-03-02T18:45:41.936470Z",
     "iopub.status.idle": "2024-03-02T18:45:44.282216Z",
     "shell.execute_reply": "2024-03-02T18:45:44.281557Z",
     "shell.execute_reply.started": "2024-03-02T18:44:00.529083Z"
    },
    "papermill": {
     "duration": 2.360676,
     "end_time": "2024-03-02T18:45:44.282373",
     "exception": false,
     "start_time": "2024-03-02T18:45:41.921697",
     "status": "completed"
    },
    "tags": []
   },
   "outputs": [],
   "source": [
    "model = Sequential()\n",
    "model.add(Embedding(max_words, 7, input_length=maxlen))\n",
    "model.add(Dropout(0.8))\n",
    "model.add(Flatten())\n",
    "model.add(Dense(1, activation='sigmoid'))"
   ]
  },
  {
   "cell_type": "code",
   "execution_count": 5,
   "metadata": {
    "execution": {
     "iopub.execute_input": "2024-03-02T18:45:44.314033Z",
     "iopub.status.busy": "2024-03-02T18:45:44.313466Z",
     "iopub.status.idle": "2024-03-02T18:45:44.319331Z",
     "shell.execute_reply": "2024-03-02T18:45:44.318829Z",
     "shell.execute_reply.started": "2024-03-02T18:44:00.560804Z"
    },
    "papermill": {
     "duration": 0.02622,
     "end_time": "2024-03-02T18:45:44.319485",
     "exception": false,
     "start_time": "2024-03-02T18:45:44.293265",
     "status": "completed"
    },
    "tags": []
   },
   "outputs": [],
   "source": [
    "model.compile(optimizer='adam', \n",
    "              loss='binary_crossentropy', \n",
    "              metrics=['accuracy'])"
   ]
  },
  {
   "cell_type": "markdown",
   "metadata": {
    "papermill": {
     "duration": 0.010104,
     "end_time": "2024-03-02T18:45:44.340069",
     "exception": false,
     "start_time": "2024-03-02T18:45:44.329965",
     "status": "completed"
    },
    "tags": []
   },
   "source": [
    "## Обучаем нейронную сеть"
   ]
  },
  {
   "cell_type": "code",
   "execution_count": 6,
   "metadata": {
    "execution": {
     "iopub.execute_input": "2024-03-02T18:45:44.375150Z",
     "iopub.status.busy": "2024-03-02T18:45:44.374575Z",
     "iopub.status.idle": "2024-03-02T18:45:59.875148Z",
     "shell.execute_reply": "2024-03-02T18:45:59.874485Z",
     "shell.execute_reply.started": "2024-03-02T18:44:00.573206Z"
    },
    "papermill": {
     "duration": 15.524874,
     "end_time": "2024-03-02T18:45:59.875299",
     "exception": false,
     "start_time": "2024-03-02T18:45:44.350425",
     "status": "completed"
    },
    "tags": []
   },
   "outputs": [
    {
     "name": "stdout",
     "output_type": "stream",
     "text": [
      "Epoch 1/15\n",
      "210/210 [==============================] - 3s 7ms/step - loss: 0.6921 - accuracy: 0.5181 - val_loss: 0.6598 - val_accuracy: 0.6998\n",
      "Epoch 2/15\n",
      "210/210 [==============================] - 1s 4ms/step - loss: 0.6118 - accuracy: 0.7092 - val_loss: 0.4372 - val_accuracy: 0.8496\n",
      "Epoch 3/15\n",
      "210/210 [==============================] - 1s 4ms/step - loss: 0.4267 - accuracy: 0.8223 - val_loss: 0.3380 - val_accuracy: 0.8778\n",
      "Epoch 4/15\n",
      "210/210 [==============================] - 1s 4ms/step - loss: 0.3534 - accuracy: 0.8544 - val_loss: 0.3018 - val_accuracy: 0.8889\n",
      "Epoch 5/15\n",
      "210/210 [==============================] - 1s 4ms/step - loss: 0.3192 - accuracy: 0.8711 - val_loss: 0.2815 - val_accuracy: 0.8939\n",
      "Epoch 6/15\n",
      "210/210 [==============================] - 1s 4ms/step - loss: 0.3007 - accuracy: 0.8757 - val_loss: 0.2695 - val_accuracy: 0.8985\n",
      "Epoch 7/15\n",
      "210/210 [==============================] - 1s 4ms/step - loss: 0.2908 - accuracy: 0.8805 - val_loss: 0.2630 - val_accuracy: 0.8996\n",
      "Epoch 8/15\n",
      "210/210 [==============================] - 1s 4ms/step - loss: 0.2775 - accuracy: 0.8879 - val_loss: 0.2576 - val_accuracy: 0.9000\n",
      "Epoch 9/15\n",
      "210/210 [==============================] - 1s 4ms/step - loss: 0.2697 - accuracy: 0.8898 - val_loss: 0.2565 - val_accuracy: 0.8980\n",
      "Epoch 10/15\n",
      "210/210 [==============================] - 1s 4ms/step - loss: 0.2675 - accuracy: 0.8893 - val_loss: 0.2530 - val_accuracy: 0.8993\n",
      "Epoch 11/15\n",
      "210/210 [==============================] - 1s 4ms/step - loss: 0.2667 - accuracy: 0.8902 - val_loss: 0.2510 - val_accuracy: 0.8985\n",
      "Epoch 12/15\n",
      "210/210 [==============================] - 1s 4ms/step - loss: 0.2494 - accuracy: 0.8991 - val_loss: 0.2546 - val_accuracy: 0.8965\n",
      "Epoch 13/15\n",
      "210/210 [==============================] - 1s 4ms/step - loss: 0.2480 - accuracy: 0.8995 - val_loss: 0.2565 - val_accuracy: 0.8946\n",
      "Epoch 14/15\n",
      "210/210 [==============================] - 1s 4ms/step - loss: 0.2521 - accuracy: 0.8968 - val_loss: 0.2521 - val_accuracy: 0.8985\n",
      "Epoch 15/15\n",
      "210/210 [==============================] - 1s 4ms/step - loss: 0.2475 - accuracy: 0.8982 - val_loss: 0.2521 - val_accuracy: 0.8970\n"
     ]
    }
   ],
   "source": [
    "history = model.fit(x_train, \n",
    "                    y_train, \n",
    "                    epochs=15,\n",
    "                    batch_size=198,\n",
    "                    validation_split=0.1)"
   ]
  },
  {
   "cell_type": "code",
   "execution_count": 7,
   "metadata": {
    "execution": {
     "iopub.execute_input": "2024-03-02T18:46:00.087625Z",
     "iopub.status.busy": "2024-03-02T18:46:00.086997Z",
     "iopub.status.idle": "2024-03-02T18:46:00.289498Z",
     "shell.execute_reply": "2024-03-02T18:46:00.288876Z",
     "shell.execute_reply.started": "2024-03-02T18:44:15.527729Z"
    },
    "papermill": {
     "duration": 0.318066,
     "end_time": "2024-03-02T18:46:00.289640",
     "exception": false,
     "start_time": "2024-03-02T18:45:59.971574",
     "status": "completed"
    },
    "tags": []
   },
   "outputs": [
    {
     "data": {
      "image/png": "[encoded data removed]",
      "text/plain": [
       "<Figure size 432x288 with 1 Axes>"
      ]
     },
     "metadata": {
      "needs_background": "light"
     },
     "output_type": "display_data"
    }
   ],
   "source": [
    "plt.plot(history.history['accuracy'], \n",
    "         label='Доля верных ответов на обучающем наборе')\n",
    "plt.plot(history.history['val_accuracy'], \n",
    "         label='Доля верных ответов на проверочном наборе')\n",
    "plt.xlabel('Эпоха обучения')\n",
    "plt.ylabel('Доля верных ответов')\n",
    "plt.legend()\n",
    "plt.show()"
   ]
  },
  {
   "cell_type": "markdown",
   "metadata": {
    "papermill": {
     "duration": 0.095905,
     "end_time": "2024-03-02T18:46:00.482169",
     "exception": false,
     "start_time": "2024-03-02T18:46:00.386264",
     "status": "completed"
    },
    "tags": []
   },
   "source": [
    "## Готовим данные для LeaderBoard"
   ]
  },
  {
   "cell_type": "code",
   "execution_count": 8,
   "metadata": {
    "execution": {
     "iopub.execute_input": "2024-03-02T18:46:00.681147Z",
     "iopub.status.busy": "2024-03-02T18:46:00.680546Z",
     "iopub.status.idle": "2024-03-02T18:46:01.022019Z",
     "shell.execute_reply": "2024-03-02T18:46:01.021453Z",
     "shell.execute_reply.started": "2024-03-02T18:44:15.740706Z"
    },
    "papermill": {
     "duration": 0.443881,
     "end_time": "2024-03-02T18:46:01.022159",
     "exception": false,
     "start_time": "2024-03-02T18:46:00.578278",
     "status": "completed"
    },
    "tags": []
   },
   "outputs": [
    {
     "name": "stderr",
     "output_type": "stream",
     "text": [
      "/opt/conda/lib/python3.7/site-packages/tensorflow/python/keras/engine/sequential.py:450: UserWarning: `model.predict_classes()` is deprecated and will be removed after 2021-01-01. Please use instead:* `np.argmax(model.predict(x), axis=-1)`,   if your model does multi-class classification   (e.g. if it uses a `softmax` last-layer activation).* `(model.predict(x) > 0.5).astype(\"int32\")`,   if your model does binary classification   (e.g. if it uses a `sigmoid` last-layer activation).\n",
      "  warnings.warn('`model.predict_classes()` is deprecated and '\n"
     ]
    }
   ],
   "source": [
    "sample_submission = pd.read_csv(KAGGLE_PATH + 'sample_supmission.csv', index_col='id')\n",
    "sample_submission.label = model.predict_classes(x_test)\n",
    "sample_submission.to_csv(\"sample_submission.csv\")"
   ]
  }
 ],
 "metadata": {
  "kaggle": {
   "accelerator": "gpu",
   "dataSources": [
    {
     "databundleVersionId": 2013734,
     "sourceId": 26119,
     "sourceType": "competition"
    }
   ],
   "dockerImageVersionId": 30068,
   "isGpuEnabled": true,
   "isInternetEnabled": true,
   "language": "python",
   "sourceType": "notebook"
  },
  "kernelspec": {
   "display_name": "Python 3",
   "language": "python",
   "name": "python3"
  },
  "language_info": {
   "codemirror_mode": {
    "name": "ipython",
    "version": 3
   },
   "file_extension": ".py",
   "mimetype": "text/x-python",
   "name": "python",
   "nbconvert_exporter": "python",
   "pygments_lexer": "ipython3",
   "version": "3.7.9"
  },
  "papermill": {
   "default_parameters": {},
   "duration": 33.421045,
   "end_time": "2024-03-02T18:46:02.229144",
   "environment_variables": {},
   "exception": null,
   "input_path": "__notebook__.ipynb",
   "output_path": "__notebook__.ipynb",
   "parameters": {},
   "start_time": "2024-03-02T18:45:28.808099",
   "version": "2.2.2"
  }
 },
 "nbformat": 4,
 "nbformat_minor": 4
}
