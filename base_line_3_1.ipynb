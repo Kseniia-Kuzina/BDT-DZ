{
  "cells": [
    {
      "cell_type": "markdown",
      "metadata": {
        "id": "view-in-github",
        "colab_type": "text"
      },
      "source": [
        "<a href=\"https://colab.research.google.com/github/Kseniia-Kuzina/BDT-DZ/blob/main/base_line_3_1.ipynb\" target=\"_parent\"><img src=\"https://colab.research.google.com/assets/colab-badge.svg\" alt=\"Open In Colab\"/></a>"
      ]
    },
    {
      "cell_type": "markdown",
      "metadata": {
        "papermill": {
          "duration": 0.020956,
          "end_time": "2024-03-09T13:33:38.607438",
          "exception": false,
          "start_time": "2024-03-09T13:33:38.586482",
          "status": "completed"
        },
        "tags": [],
        "id": "d2SCAo_WfYpS"
      },
      "source": [
        "## Решение задачи регрессии с помощью нейронных сетей\n",
        "\n",
        "Определение стоимости недвижимости из набора данных [California Housing Data Set](https://developers.google.com/machine-learning/crash-course/california-housing-data-description).\n",
        "\n",
        "Учебный курс \"[Программирование глубоких нейронных сетей на Python](https://openedu.ru/course/urfu/PYDNN/)\"."
      ]
    },
    {
      "cell_type": "code",
      "execution_count": null,
      "metadata": {
        "execution": {
          "iopub.execute_input": "2024-03-09T13:33:38.655345Z",
          "iopub.status.busy": "2024-03-09T13:33:38.654564Z",
          "iopub.status.idle": "2024-03-09T13:33:43.692850Z",
          "shell.execute_reply": "2024-03-09T13:33:43.692244Z",
          "shell.execute_reply.started": "2024-03-09T13:21:09.740887Z"
        },
        "papermill": {
          "duration": 5.065914,
          "end_time": "2024-03-09T13:33:43.693079",
          "exception": false,
          "start_time": "2024-03-09T13:33:38.627165",
          "status": "completed"
        },
        "tags": [],
        "id": "AKkGcqxIfYpV",
        "outputId": "3567d11f-3fa0-4772-d7ce-29057053aca9"
      },
      "outputs": [
        {
          "name": "stdout",
          "output_type": "stream",
          "text": [
            "/kaggle/input/dl-urfu-regression/sample_submission.csv\n",
            "/kaggle/input/dl-urfu-regression/train.csv\n",
            "/kaggle/input/dl-urfu-regression/test.csv\n"
          ]
        }
      ],
      "source": [
        "from tensorflow.keras.models import Sequential\n",
        "from tensorflow.keras.layers import Dense\n",
        "import pandas as pd\n",
        "import numpy as np\n",
        "import matplotlib.pyplot as plt\n",
        "%matplotlib inline\n",
        "\"\"\" посмотрим, какие файлы храняться в директории \"\"\"\n",
        "import os\n",
        "for dirname, _, filenames in os.walk('/kaggle/input/'):\n",
        "    for filename in filenames:\n",
        "        print(os.path.join(dirname, filename))"
      ]
    },
    {
      "cell_type": "markdown",
      "metadata": {
        "papermill": {
          "duration": 0.019412,
          "end_time": "2024-03-09T13:33:43.732133",
          "exception": false,
          "start_time": "2024-03-09T13:33:43.712721",
          "status": "completed"
        },
        "tags": [],
        "id": "NeePw54hfYpX"
      },
      "source": [
        "## Загружаем данные"
      ]
    },
    {
      "cell_type": "code",
      "execution_count": null,
      "metadata": {
        "execution": {
          "iopub.execute_input": "2024-03-09T13:33:43.776956Z",
          "iopub.status.busy": "2024-03-09T13:33:43.776356Z",
          "iopub.status.idle": "2024-03-09T13:33:43.837418Z",
          "shell.execute_reply": "2024-03-09T13:33:43.836718Z",
          "shell.execute_reply.started": "2024-03-09T13:21:09.758184Z"
        },
        "papermill": {
          "duration": 0.086029,
          "end_time": "2024-03-09T13:33:43.837579",
          "exception": false,
          "start_time": "2024-03-09T13:33:43.751550",
          "status": "completed"
        },
        "tags": [],
        "id": "sgc5bIXjfYpX"
      },
      "outputs": [],
      "source": [
        "train_df = pd.read_csv('/kaggle/input/dl-urfu-regression/train.csv')\n",
        "test_df = pd.read_csv('/kaggle/input/dl-urfu-regression/test.csv')\n",
        "sample_submission = pd.read_csv('/kaggle/input/dl-urfu-regression/sample_submission.csv', index_col='id')"
      ]
    },
    {
      "cell_type": "markdown",
      "metadata": {
        "papermill": {
          "duration": 0.019062,
          "end_time": "2024-03-09T13:33:43.876396",
          "exception": false,
          "start_time": "2024-03-09T13:33:43.857334",
          "status": "completed"
        },
        "tags": [],
        "id": "nY2gERpVfYpX"
      },
      "source": [
        "**Описание данных**\n",
        "\n",
        "California Housing содержит данные о средней стоимость домов в Калифорнии для квартала. Файл с данными содержит следующие столбцы:\n",
        "\n",
        "*   **longitude** - долгота квартала с недвижимостью.\n",
        "*   **latitude** - широта квартала с недвижимостью.\n",
        "*   **housing_median_age** - медиана возраста домов в квартале.\n",
        "*   **total_rooms** - общее колиичество комнат в квартале.\n",
        "*   **total_bedrooms** - общее количество спален в квартале.\n",
        "*   **population** - население квартала.\n",
        "*   **households** - количество \"домохозяйств\" в квартале (групп людей живущих вместе в одном доме. Как правило это семьи).\n",
        "*   **median_income** - медианный доход в квартале.\n",
        "*   **median_house_value** - медианная стоимость дома в квартале.\n",
        "\n"
      ]
    },
    {
      "cell_type": "code",
      "execution_count": null,
      "metadata": {
        "execution": {
          "iopub.execute_input": "2024-03-09T13:33:43.920901Z",
          "iopub.status.busy": "2024-03-09T13:33:43.920294Z",
          "iopub.status.idle": "2024-03-09T13:33:43.939384Z",
          "shell.execute_reply": "2024-03-09T13:33:43.939954Z",
          "shell.execute_reply.started": "2024-03-09T13:21:09.804128Z"
        },
        "papermill": {
          "duration": 0.044607,
          "end_time": "2024-03-09T13:33:43.940156",
          "exception": false,
          "start_time": "2024-03-09T13:33:43.895549",
          "status": "completed"
        },
        "tags": [],
        "id": "8UBnpx_pfYpY",
        "outputId": "c5f72f36-2241-43f1-ca6a-fb9cf1262ebe"
      },
      "outputs": [
        {
          "data": {
            "text/html": [
              "<div>\n",
              "<style scoped>\n",
              "    .dataframe tbody tr th:only-of-type {\n",
              "        vertical-align: middle;\n",
              "    }\n",
              "\n",
              "    .dataframe tbody tr th {\n",
              "        vertical-align: top;\n",
              "    }\n",
              "\n",
              "    .dataframe thead th {\n",
              "        text-align: right;\n",
              "    }\n",
              "</style>\n",
              "<table border=\"1\" class=\"dataframe\">\n",
              "  <thead>\n",
              "    <tr style=\"text-align: right;\">\n",
              "      <th></th>\n",
              "      <th>longitude</th>\n",
              "      <th>latitude</th>\n",
              "      <th>housing_median_age</th>\n",
              "      <th>total_rooms</th>\n",
              "      <th>total_bedrooms</th>\n",
              "      <th>population</th>\n",
              "      <th>households</th>\n",
              "      <th>median_income</th>\n",
              "      <th>median_house_value</th>\n",
              "    </tr>\n",
              "  </thead>\n",
              "  <tbody>\n",
              "    <tr>\n",
              "      <th>8179</th>\n",
              "      <td>-118.07</td>\n",
              "      <td>33.79</td>\n",
              "      <td>26.0</td>\n",
              "      <td>4422.0</td>\n",
              "      <td>624.0</td>\n",
              "      <td>1936.0</td>\n",
              "      <td>625.0</td>\n",
              "      <td>6.4288</td>\n",
              "      <td>320700.0</td>\n",
              "    </tr>\n",
              "    <tr>\n",
              "      <th>454</th>\n",
              "      <td>-118.03</td>\n",
              "      <td>33.97</td>\n",
              "      <td>39.0</td>\n",
              "      <td>2126.0</td>\n",
              "      <td>434.0</td>\n",
              "      <td>1103.0</td>\n",
              "      <td>433.0</td>\n",
              "      <td>3.2852</td>\n",
              "      <td>196200.0</td>\n",
              "    </tr>\n",
              "    <tr>\n",
              "      <th>3680</th>\n",
              "      <td>-118.33</td>\n",
              "      <td>33.99</td>\n",
              "      <td>43.0</td>\n",
              "      <td>2224.0</td>\n",
              "      <td>550.0</td>\n",
              "      <td>1598.0</td>\n",
              "      <td>545.0</td>\n",
              "      <td>2.8274</td>\n",
              "      <td>122500.0</td>\n",
              "    </tr>\n",
              "  </tbody>\n",
              "</table>\n",
              "</div>"
            ],
            "text/plain": [
              "      longitude  latitude  housing_median_age  total_rooms  total_bedrooms  \\\n",
              "8179    -118.07     33.79                26.0       4422.0           624.0   \n",
              "454     -118.03     33.97                39.0       2126.0           434.0   \n",
              "3680    -118.33     33.99                43.0       2224.0           550.0   \n",
              "\n",
              "      population  households  median_income  median_house_value  \n",
              "8179      1936.0       625.0         6.4288            320700.0  \n",
              "454       1103.0       433.0         3.2852            196200.0  \n",
              "3680      1598.0       545.0         2.8274            122500.0  "
            ]
          },
          "execution_count": 3,
          "metadata": {},
          "output_type": "execute_result"
        }
      ],
      "source": [
        "\"\"\"Смотрим на случайные 3 записи в нашем тренировочном наборе\"\"\"\n",
        "train_df.sample(3)"
      ]
    },
    {
      "cell_type": "code",
      "execution_count": null,
      "metadata": {
        "execution": {
          "iopub.execute_input": "2024-03-09T13:33:43.998746Z",
          "iopub.status.busy": "2024-03-09T13:33:43.998037Z",
          "iopub.status.idle": "2024-03-09T13:33:44.001712Z",
          "shell.execute_reply": "2024-03-09T13:33:44.001238Z",
          "shell.execute_reply.started": "2024-03-09T13:21:09.824380Z"
        },
        "papermill": {
          "duration": 0.037745,
          "end_time": "2024-03-09T13:33:44.001848",
          "exception": false,
          "start_time": "2024-03-09T13:33:43.964103",
          "status": "completed"
        },
        "tags": [],
        "id": "fwT5hFEDfYpY",
        "outputId": "9f0b40e4-8bee-4d69-ed2d-f235bb21d0c5"
      },
      "outputs": [
        {
          "data": {
            "text/html": [
              "<div>\n",
              "<style scoped>\n",
              "    .dataframe tbody tr th:only-of-type {\n",
              "        vertical-align: middle;\n",
              "    }\n",
              "\n",
              "    .dataframe tbody tr th {\n",
              "        vertical-align: top;\n",
              "    }\n",
              "\n",
              "    .dataframe thead th {\n",
              "        text-align: right;\n",
              "    }\n",
              "</style>\n",
              "<table border=\"1\" class=\"dataframe\">\n",
              "  <thead>\n",
              "    <tr style=\"text-align: right;\">\n",
              "      <th></th>\n",
              "      <th>longitude</th>\n",
              "      <th>latitude</th>\n",
              "      <th>housing_median_age</th>\n",
              "      <th>total_rooms</th>\n",
              "      <th>total_bedrooms</th>\n",
              "      <th>population</th>\n",
              "      <th>households</th>\n",
              "      <th>median_income</th>\n",
              "    </tr>\n",
              "  </thead>\n",
              "  <tbody>\n",
              "    <tr>\n",
              "      <th>633</th>\n",
              "      <td>-118.02</td>\n",
              "      <td>34.13</td>\n",
              "      <td>32.0</td>\n",
              "      <td>3308.0</td>\n",
              "      <td>718.0</td>\n",
              "      <td>1803.0</td>\n",
              "      <td>667.0</td>\n",
              "      <td>3.9464</td>\n",
              "    </tr>\n",
              "    <tr>\n",
              "      <th>390</th>\n",
              "      <td>-117.65</td>\n",
              "      <td>33.45</td>\n",
              "      <td>15.0</td>\n",
              "      <td>7468.0</td>\n",
              "      <td>1275.0</td>\n",
              "      <td>3033.0</td>\n",
              "      <td>1217.0</td>\n",
              "      <td>5.4900</td>\n",
              "    </tr>\n",
              "    <tr>\n",
              "      <th>1456</th>\n",
              "      <td>-119.70</td>\n",
              "      <td>34.36</td>\n",
              "      <td>35.0</td>\n",
              "      <td>1604.0</td>\n",
              "      <td>334.0</td>\n",
              "      <td>904.0</td>\n",
              "      <td>337.0</td>\n",
              "      <td>4.7411</td>\n",
              "    </tr>\n",
              "  </tbody>\n",
              "</table>\n",
              "</div>"
            ],
            "text/plain": [
              "      longitude  latitude  housing_median_age  total_rooms  total_bedrooms  \\\n",
              "633     -118.02     34.13                32.0       3308.0           718.0   \n",
              "390     -117.65     33.45                15.0       7468.0          1275.0   \n",
              "1456    -119.70     34.36                35.0       1604.0           334.0   \n",
              "\n",
              "      population  households  median_income  \n",
              "633       1803.0       667.0         3.9464  \n",
              "390       3033.0      1217.0         5.4900  \n",
              "1456       904.0       337.0         4.7411  "
            ]
          },
          "execution_count": 4,
          "metadata": {},
          "output_type": "execute_result"
        }
      ],
      "source": [
        "\"\"\"Смотрим на случайные 3 записи в нашем тестовом наборе\"\"\"\n",
        "test_df.sample(3)"
      ]
    },
    {
      "cell_type": "code",
      "execution_count": null,
      "metadata": {
        "execution": {
          "iopub.execute_input": "2024-03-09T13:33:44.051031Z",
          "iopub.status.busy": "2024-03-09T13:33:44.050371Z",
          "iopub.status.idle": "2024-03-09T13:33:44.055124Z",
          "shell.execute_reply": "2024-03-09T13:33:44.054499Z",
          "shell.execute_reply.started": "2024-03-09T13:21:09.845047Z"
        },
        "papermill": {
          "duration": 0.032972,
          "end_time": "2024-03-09T13:33:44.055294",
          "exception": false,
          "start_time": "2024-03-09T13:33:44.022322",
          "status": "completed"
        },
        "tags": [],
        "id": "MlP2WYXQfYpY",
        "outputId": "627caaf1-7f92-4cb3-d157-06b6d3083838"
      },
      "outputs": [
        {
          "data": {
            "text/html": [
              "<div>\n",
              "<style scoped>\n",
              "    .dataframe tbody tr th:only-of-type {\n",
              "        vertical-align: middle;\n",
              "    }\n",
              "\n",
              "    .dataframe tbody tr th {\n",
              "        vertical-align: top;\n",
              "    }\n",
              "\n",
              "    .dataframe thead th {\n",
              "        text-align: right;\n",
              "    }\n",
              "</style>\n",
              "<table border=\"1\" class=\"dataframe\">\n",
              "  <thead>\n",
              "    <tr style=\"text-align: right;\">\n",
              "      <th></th>\n",
              "      <th>median_house_value</th>\n",
              "    </tr>\n",
              "    <tr>\n",
              "      <th>id</th>\n",
              "      <th></th>\n",
              "    </tr>\n",
              "  </thead>\n",
              "  <tbody>\n",
              "    <tr>\n",
              "      <th>1258</th>\n",
              "      <td>0.1258</td>\n",
              "    </tr>\n",
              "    <tr>\n",
              "      <th>1409</th>\n",
              "      <td>0.1409</td>\n",
              "    </tr>\n",
              "    <tr>\n",
              "      <th>311</th>\n",
              "      <td>0.3110</td>\n",
              "    </tr>\n",
              "  </tbody>\n",
              "</table>\n",
              "</div>"
            ],
            "text/plain": [
              "      median_house_value\n",
              "id                      \n",
              "1258              0.1258\n",
              "1409              0.1409\n",
              "311               0.3110"
            ]
          },
          "execution_count": 5,
          "metadata": {},
          "output_type": "execute_result"
        }
      ],
      "source": [
        "\"\"\"Смотрим на случайные 3 записи в шаблоне для ответов\"\"\"\n",
        "sample_submission.sample(3)"
      ]
    },
    {
      "cell_type": "markdown",
      "metadata": {
        "papermill": {
          "duration": 0.020314,
          "end_time": "2024-03-09T13:33:44.098628",
          "exception": false,
          "start_time": "2024-03-09T13:33:44.078314",
          "status": "completed"
        },
        "tags": [],
        "id": "0lUxdOT5fYpZ"
      },
      "source": [
        "## Постановка задачи регрессии\n",
        "\n",
        "Необходимо определить медианную стоимость дома в квартале, зная все остальные признаки.\n",
        "\n",
        "**Целевая переменная**: `median_house_value`\n",
        "\n",
        "**Признаки**: `longitude, latitude, housing_median_age, total_rooms, total_bedrooms, population, households,\tmedian_income`\n",
        "\n",
        "Признаки подаются на вход нейронной сети, на выходе сеть должна выдать значение целевой переменной - `median_house_value`"
      ]
    },
    {
      "cell_type": "code",
      "execution_count": null,
      "metadata": {
        "execution": {
          "iopub.execute_input": "2024-03-09T13:33:44.145592Z",
          "iopub.status.busy": "2024-03-09T13:33:44.144709Z",
          "iopub.status.idle": "2024-03-09T13:33:44.148286Z",
          "shell.execute_reply": "2024-03-09T13:33:44.147686Z",
          "shell.execute_reply.started": "2024-03-09T13:21:09.859423Z"
        },
        "papermill": {
          "duration": 0.029031,
          "end_time": "2024-03-09T13:33:44.148418",
          "exception": false,
          "start_time": "2024-03-09T13:33:44.119387",
          "status": "completed"
        },
        "tags": [],
        "id": "RavghciZfYpZ"
      },
      "outputs": [],
      "source": [
        "\"\"\"Выделяем данные для обучения и преобразуем их в массивы numpy.\n",
        "Функция pop() возвращает нам указанный столбец и одновременно удаляет его из таблицы.\n",
        "Таким образом, когда мы присваиваем df_train в переменную x_train,\n",
        "там уже нет столбца с метками правильных ответов median_house_value \"\"\"\n",
        "y_train = train_df.pop('median_house_value').values\n",
        "x_train = train_df.values\n",
        "x_test = test_df.values"
      ]
    },
    {
      "cell_type": "code",
      "execution_count": null,
      "metadata": {
        "execution": {
          "iopub.execute_input": "2024-03-09T13:33:44.195433Z",
          "iopub.status.busy": "2024-03-09T13:33:44.194486Z",
          "iopub.status.idle": "2024-03-09T13:33:44.198287Z",
          "shell.execute_reply": "2024-03-09T13:33:44.197764Z",
          "shell.execute_reply.started": "2024-03-09T13:21:09.870538Z"
        },
        "papermill": {
          "duration": 0.028988,
          "end_time": "2024-03-09T13:33:44.198428",
          "exception": false,
          "start_time": "2024-03-09T13:33:44.169440",
          "status": "completed"
        },
        "tags": [],
        "id": "8_XsHqaYfYpZ",
        "outputId": "5f93a578-8f8b-469f-bd29-0ff4b7da56e3"
      },
      "outputs": [
        {
          "data": {
            "text/plain": [
              "((17000, 8), (3000, 8))"
            ]
          },
          "execution_count": 7,
          "metadata": {},
          "output_type": "execute_result"
        }
      ],
      "source": [
        "\"\"\"Убедимся, что количество столбцов в данных совпадает\"\"\"\n",
        "x_train.shape, x_test.shape"
      ]
    },
    {
      "cell_type": "markdown",
      "metadata": {
        "papermill": {
          "duration": 0.020864,
          "end_time": "2024-03-09T13:33:44.241876",
          "exception": false,
          "start_time": "2024-03-09T13:33:44.221012",
          "status": "completed"
        },
        "tags": [],
        "id": "bcG6fULDfYpa"
      },
      "source": [
        "**Стандартизация данных**\n",
        "\n",
        "Вычитаем среднее значение и делим на стандартное отклонение"
      ]
    },
    {
      "cell_type": "code",
      "execution_count": null,
      "metadata": {
        "execution": {
          "iopub.execute_input": "2024-03-09T13:33:44.290288Z",
          "iopub.status.busy": "2024-03-09T13:33:44.289253Z",
          "iopub.status.idle": "2024-03-09T13:33:44.293195Z",
          "shell.execute_reply": "2024-03-09T13:33:44.293635Z",
          "shell.execute_reply.started": "2024-03-09T13:21:09.882057Z"
        },
        "papermill": {
          "duration": 0.030536,
          "end_time": "2024-03-09T13:33:44.293803",
          "exception": false,
          "start_time": "2024-03-09T13:33:44.263267",
          "status": "completed"
        },
        "tags": [],
        "id": "4hE5TS4BfYpa"
      },
      "outputs": [],
      "source": [
        "# Среднее значение\n",
        "mean = x_train.mean(axis=0)\n",
        "# Стандартное отклонение\n",
        "std = x_train.std(axis=0)\n",
        "x_train -= mean\n",
        "x_train /= std\n",
        "x_test -= mean\n",
        "x_test /= std"
      ]
    },
    {
      "cell_type": "markdown",
      "metadata": {
        "papermill": {
          "duration": 0.02097,
          "end_time": "2024-03-09T13:33:44.335894",
          "exception": false,
          "start_time": "2024-03-09T13:33:44.314924",
          "status": "completed"
        },
        "tags": [],
        "id": "yC5v4_SVfYpa"
      },
      "source": [
        "## Создаем нейронную сеть\n",
        "\n",
        "Выходной слой с одним линейным нейроном - для задачи регрессии функция активации - RELU."
      ]
    },
    {
      "cell_type": "code",
      "execution_count": null,
      "metadata": {
        "execution": {
          "iopub.execute_input": "2024-03-09T13:33:44.383708Z",
          "iopub.status.busy": "2024-03-09T13:33:44.383097Z",
          "iopub.status.idle": "2024-03-09T13:33:46.835211Z",
          "shell.execute_reply": "2024-03-09T13:33:46.834548Z",
          "shell.execute_reply.started": "2024-03-09T13:21:09.890618Z"
        },
        "papermill": {
          "duration": 2.478437,
          "end_time": "2024-03-09T13:33:46.835381",
          "exception": false,
          "start_time": "2024-03-09T13:33:44.356944",
          "status": "completed"
        },
        "tags": [],
        "id": "Y72EuV6XfYpa"
      },
      "outputs": [],
      "source": [
        "model = Sequential()\n",
        "model.add(Dense(128, activation='relu', input_shape=(x_train.shape[1],)))\n",
        "model.add(Dense(64, activation='relu'))\n",
        "model.add(Dense(32, activation='relu'))\n",
        "model.add(Dense(1, activation='relu'))"
      ]
    },
    {
      "cell_type": "code",
      "execution_count": null,
      "metadata": {
        "execution": {
          "iopub.execute_input": "2024-03-09T13:33:46.885413Z",
          "iopub.status.busy": "2024-03-09T13:33:46.884608Z",
          "iopub.status.idle": "2024-03-09T13:33:46.887614Z",
          "shell.execute_reply": "2024-03-09T13:33:46.888127Z",
          "shell.execute_reply.started": "2024-03-09T13:21:09.933445Z"
        },
        "papermill": {
          "duration": 0.030961,
          "end_time": "2024-03-09T13:33:46.888290",
          "exception": false,
          "start_time": "2024-03-09T13:33:46.857329",
          "status": "completed"
        },
        "tags": [],
        "id": "v750luO_fYpb",
        "outputId": "91b4406f-d603-4170-9188-e4af1e8dd868"
      },
      "outputs": [
        {
          "name": "stdout",
          "output_type": "stream",
          "text": [
            "Model: \"sequential\"\n",
            "_________________________________________________________________\n",
            "Layer (type)                 Output Shape              Param #   \n",
            "=================================================================\n",
            "dense (Dense)                (None, 128)               1152      \n",
            "_________________________________________________________________\n",
            "dense_1 (Dense)              (None, 64)                8256      \n",
            "_________________________________________________________________\n",
            "dense_2 (Dense)              (None, 32)                2080      \n",
            "_________________________________________________________________\n",
            "dense_3 (Dense)              (None, 1)                 33        \n",
            "=================================================================\n",
            "Total params: 11,521\n",
            "Trainable params: 11,521\n",
            "Non-trainable params: 0\n",
            "_________________________________________________________________\n",
            "None\n"
          ]
        }
      ],
      "source": [
        "print(model.summary())"
      ]
    },
    {
      "cell_type": "markdown",
      "metadata": {
        "papermill": {
          "duration": 0.021262,
          "end_time": "2024-03-09T13:33:46.930825",
          "exception": false,
          "start_time": "2024-03-09T13:33:46.909563",
          "status": "completed"
        },
        "tags": [],
        "id": "MgFwSkA6fYpb"
      },
      "source": [
        "**Компилируем сеть**\n",
        "\n",
        "Функция ошибки - среднеквадратичное отклонение. Метрика - среднее абсолютное отклонение."
      ]
    },
    {
      "cell_type": "code",
      "execution_count": null,
      "metadata": {
        "execution": {
          "iopub.execute_input": "2024-03-09T13:33:46.983073Z",
          "iopub.status.busy": "2024-03-09T13:33:46.977872Z",
          "iopub.status.idle": "2024-03-09T13:33:46.990930Z",
          "shell.execute_reply": "2024-03-09T13:33:46.990335Z",
          "shell.execute_reply.started": "2024-03-09T13:21:09.944106Z"
        },
        "papermill": {
          "duration": 0.038907,
          "end_time": "2024-03-09T13:33:46.991086",
          "exception": false,
          "start_time": "2024-03-09T13:33:46.952179",
          "status": "completed"
        },
        "tags": [],
        "id": "0bXULY9pfYpb"
      },
      "outputs": [],
      "source": [
        "model.compile(optimizer='nadam', loss='mse', metrics=['mae'])"
      ]
    },
    {
      "cell_type": "markdown",
      "metadata": {
        "papermill": {
          "duration": 0.021141,
          "end_time": "2024-03-09T13:33:47.033401",
          "exception": false,
          "start_time": "2024-03-09T13:33:47.012260",
          "status": "completed"
        },
        "tags": [],
        "id": "1Vh5saKpfYpb"
      },
      "source": [
        "## Обучаем нейронную сеть"
      ]
    },
    {
      "cell_type": "code",
      "execution_count": null,
      "metadata": {
        "execution": {
          "iopub.execute_input": "2024-03-09T13:33:47.081638Z",
          "iopub.status.busy": "2024-03-09T13:33:47.081008Z",
          "iopub.status.idle": "2024-03-09T13:43:50.596129Z",
          "shell.execute_reply": "2024-03-09T13:43:50.595430Z",
          "shell.execute_reply.started": "2024-03-09T13:21:09.958500Z"
        },
        "papermill": {
          "duration": 603.54151,
          "end_time": "2024-03-09T13:43:50.596293",
          "exception": false,
          "start_time": "2024-03-09T13:33:47.054783",
          "status": "completed"
        },
        "tags": [],
        "id": "e0OaXs2mfYpb",
        "outputId": "3a2bac59-bd2a-4852-cf81-7c0e10e5728f"
      },
      "outputs": [
        {
          "name": "stdout",
          "output_type": "stream",
          "text": [
            "Epoch 1/300\n",
            "1020/1020 - 4s - loss: 25656600576.0000 - mae: 120006.8594 - val_loss: 8645241856.0000 - val_mae: 68213.7344\n",
            "Epoch 2/300\n",
            "1020/1020 - 2s - loss: 6842768384.0000 - mae: 59558.3359 - val_loss: 5533712896.0000 - val_mae: 54794.1211\n",
            "Epoch 3/300\n",
            "1020/1020 - 2s - loss: 5214822400.0000 - mae: 52655.8789 - val_loss: 4715802624.0000 - val_mae: 49988.3008\n",
            "Epoch 4/300\n",
            "1020/1020 - 2s - loss: 4756011008.0000 - mae: 50089.3047 - val_loss: 4465401344.0000 - val_mae: 48746.8125\n",
            "Epoch 5/300\n",
            "1020/1020 - 2s - loss: 4584791552.0000 - mae: 48924.7773 - val_loss: 4287238400.0000 - val_mae: 47967.6836\n",
            "Epoch 6/300\n",
            "1020/1020 - 2s - loss: 4498027520.0000 - mae: 48290.2578 - val_loss: 4215174912.0000 - val_mae: 47758.6523\n",
            "Epoch 7/300\n",
            "1020/1020 - 2s - loss: 4448713216.0000 - mae: 47888.2383 - val_loss: 4209427456.0000 - val_mae: 47673.6328\n",
            "Epoch 8/300\n",
            "1020/1020 - 2s - loss: 4409099264.0000 - mae: 47530.1562 - val_loss: 4164114944.0000 - val_mae: 46577.9336\n",
            "Epoch 9/300\n",
            "1020/1020 - 2s - loss: 4379190784.0000 - mae: 47318.4219 - val_loss: 4139514880.0000 - val_mae: 46216.5703\n",
            "Epoch 10/300\n",
            "1020/1020 - 2s - loss: 4355771904.0000 - mae: 47052.2383 - val_loss: 4112750336.0000 - val_mae: 46203.5234\n",
            "Epoch 11/300\n",
            "1020/1020 - 2s - loss: 4333005312.0000 - mae: 46903.3242 - val_loss: 4098902016.0000 - val_mae: 45926.6836\n",
            "Epoch 12/300\n",
            "1020/1020 - 2s - loss: 4313446912.0000 - mae: 46682.0430 - val_loss: 4076938240.0000 - val_mae: 45901.1758\n",
            "Epoch 13/300\n",
            "1020/1020 - 2s - loss: 4297445888.0000 - mae: 46690.4883 - val_loss: 4056228352.0000 - val_mae: 46055.3711\n",
            "Epoch 14/300\n",
            "1020/1020 - 2s - loss: 4283561728.0000 - mae: 46457.6406 - val_loss: 4089500672.0000 - val_mae: 45985.5195\n",
            "Epoch 15/300\n",
            "1020/1020 - 2s - loss: 4270891520.0000 - mae: 46389.6328 - val_loss: 4056388096.0000 - val_mae: 46115.9141\n",
            "Epoch 16/300\n",
            "1020/1020 - 2s - loss: 4254620672.0000 - mae: 46271.7461 - val_loss: 4065785088.0000 - val_mae: 46132.5703\n",
            "Epoch 17/300\n",
            "1020/1020 - 2s - loss: 4245493504.0000 - mae: 46153.2461 - val_loss: 4020846080.0000 - val_mae: 45745.8164\n",
            "Epoch 18/300\n",
            "1020/1020 - 2s - loss: 4232672768.0000 - mae: 46103.5938 - val_loss: 3998778880.0000 - val_mae: 45602.8125\n",
            "Epoch 19/300\n",
            "1020/1020 - 2s - loss: 4213934592.0000 - mae: 46030.4258 - val_loss: 3991271424.0000 - val_mae: 45387.0430\n",
            "Epoch 20/300\n",
            "1020/1020 - 2s - loss: 4200413696.0000 - mae: 45801.8164 - val_loss: 4053027072.0000 - val_mae: 46694.9570\n",
            "Epoch 21/300\n",
            "1020/1020 - 2s - loss: 4191073792.0000 - mae: 45807.9297 - val_loss: 3980705024.0000 - val_mae: 45249.3555\n",
            "Epoch 22/300\n",
            "1020/1020 - 2s - loss: 4178572032.0000 - mae: 45728.8320 - val_loss: 3983305216.0000 - val_mae: 45665.2266\n",
            "Epoch 23/300\n",
            "1020/1020 - 2s - loss: 4159944960.0000 - mae: 45586.0234 - val_loss: 3974718976.0000 - val_mae: 44967.6992\n",
            "Epoch 24/300\n",
            "1020/1020 - 2s - loss: 4155422464.0000 - mae: 45577.8750 - val_loss: 3944903680.0000 - val_mae: 44751.0664\n",
            "Epoch 25/300\n",
            "1020/1020 - 2s - loss: 4143692800.0000 - mae: 45440.8594 - val_loss: 3938476544.0000 - val_mae: 45215.9102\n",
            "Epoch 26/300\n",
            "1020/1020 - 2s - loss: 4122899712.0000 - mae: 45411.8750 - val_loss: 3942501376.0000 - val_mae: 44748.8125\n",
            "Epoch 27/300\n",
            "1020/1020 - 2s - loss: 4118247168.0000 - mae: 45239.1406 - val_loss: 3906111744.0000 - val_mae: 44569.8555\n",
            "Epoch 28/300\n",
            "1020/1020 - 2s - loss: 4097273344.0000 - mae: 45171.0117 - val_loss: 3906277120.0000 - val_mae: 44908.6914\n",
            "Epoch 29/300\n",
            "1020/1020 - 2s - loss: 4083944192.0000 - mae: 44987.9219 - val_loss: 3887874048.0000 - val_mae: 44777.7070\n",
            "Epoch 30/300\n",
            "1020/1020 - 2s - loss: 4068303104.0000 - mae: 44967.6758 - val_loss: 3941238528.0000 - val_mae: 44134.4922\n",
            "Epoch 31/300\n",
            "1020/1020 - 2s - loss: 4055085824.0000 - mae: 44787.9727 - val_loss: 3874506496.0000 - val_mae: 44735.9023\n",
            "Epoch 32/300\n",
            "1020/1020 - 2s - loss: 4036254208.0000 - mae: 44817.4922 - val_loss: 3858128640.0000 - val_mae: 44389.1875\n",
            "Epoch 33/300\n",
            "1020/1020 - 2s - loss: 4020602880.0000 - mae: 44711.0586 - val_loss: 3850663424.0000 - val_mae: 43892.5039\n",
            "Epoch 34/300\n",
            "1020/1020 - 2s - loss: 4003105536.0000 - mae: 44505.7578 - val_loss: 3828337920.0000 - val_mae: 44513.4297\n",
            "Epoch 35/300\n",
            "1020/1020 - 2s - loss: 3987325184.0000 - mae: 44475.7812 - val_loss: 3793078784.0000 - val_mae: 44087.9805\n",
            "Epoch 36/300\n",
            "1020/1020 - 2s - loss: 3965380352.0000 - mae: 44331.1953 - val_loss: 3778221568.0000 - val_mae: 43861.3320\n",
            "Epoch 37/300\n",
            "1020/1020 - 2s - loss: 3946364160.0000 - mae: 44190.8164 - val_loss: 3777902336.0000 - val_mae: 44012.2266\n",
            "Epoch 38/300\n",
            "1020/1020 - 2s - loss: 3934237184.0000 - mae: 44134.6289 - val_loss: 3757456384.0000 - val_mae: 43928.4141\n",
            "Epoch 39/300\n",
            "1020/1020 - 2s - loss: 3913638656.0000 - mae: 43932.6484 - val_loss: 3774345984.0000 - val_mae: 44787.0898\n",
            "Epoch 40/300\n",
            "1020/1020 - 2s - loss: 3895124736.0000 - mae: 43878.5703 - val_loss: 3724507904.0000 - val_mae: 43638.0469\n",
            "Epoch 41/300\n",
            "1020/1020 - 2s - loss: 3873611008.0000 - mae: 43780.0469 - val_loss: 3711158016.0000 - val_mae: 43797.0586\n",
            "Epoch 42/300\n",
            "1020/1020 - 2s - loss: 3857740800.0000 - mae: 43663.2109 - val_loss: 3671649536.0000 - val_mae: 43418.4805\n",
            "Epoch 43/300\n",
            "1020/1020 - 2s - loss: 3833807872.0000 - mae: 43530.4414 - val_loss: 3658869760.0000 - val_mae: 43331.1250\n",
            "Epoch 44/300\n",
            "1020/1020 - 2s - loss: 3818973440.0000 - mae: 43415.7578 - val_loss: 3659548928.0000 - val_mae: 43708.6953\n",
            "Epoch 45/300\n",
            "1020/1020 - 2s - loss: 3794854912.0000 - mae: 43264.1289 - val_loss: 3645893888.0000 - val_mae: 43700.4570\n",
            "Epoch 46/300\n",
            "1020/1020 - 2s - loss: 3779831808.0000 - mae: 43178.6523 - val_loss: 3627438080.0000 - val_mae: 43698.4688\n",
            "Epoch 47/300\n",
            "1020/1020 - 2s - loss: 3762763264.0000 - mae: 43038.9922 - val_loss: 3602477824.0000 - val_mae: 43367.7930\n",
            "Epoch 48/300\n",
            "1020/1020 - 2s - loss: 3738280448.0000 - mae: 42928.1602 - val_loss: 3620029440.0000 - val_mae: 43920.5742\n",
            "Epoch 49/300\n",
            "1020/1020 - 2s - loss: 3725865216.0000 - mae: 42892.9141 - val_loss: 3579592704.0000 - val_mae: 42931.4727\n",
            "Epoch 50/300\n",
            "1020/1020 - 2s - loss: 3706669568.0000 - mae: 42774.6016 - val_loss: 3531839232.0000 - val_mae: 42579.7891\n",
            "Epoch 51/300\n",
            "1020/1020 - 2s - loss: 3692096256.0000 - mae: 42621.6250 - val_loss: 3511324416.0000 - val_mae: 42572.7656\n",
            "Epoch 52/300\n",
            "1020/1020 - 2s - loss: 3667440640.0000 - mae: 42472.8477 - val_loss: 3525049856.0000 - val_mae: 42129.5000\n",
            "Epoch 53/300\n",
            "1020/1020 - 2s - loss: 3645772288.0000 - mae: 42366.5352 - val_loss: 3486405632.0000 - val_mae: 42737.3828\n",
            "Epoch 54/300\n",
            "1020/1020 - 2s - loss: 3623121920.0000 - mae: 42247.1875 - val_loss: 3473986560.0000 - val_mae: 41963.0664\n",
            "Epoch 55/300\n",
            "1020/1020 - 2s - loss: 3606025216.0000 - mae: 42080.6016 - val_loss: 3494456832.0000 - val_mae: 43055.4766\n",
            "Epoch 56/300\n",
            "1020/1020 - 2s - loss: 3585286656.0000 - mae: 41910.0117 - val_loss: 3429853952.0000 - val_mae: 41989.8359\n",
            "Epoch 57/300\n",
            "1020/1020 - 2s - loss: 3563459328.0000 - mae: 41884.2656 - val_loss: 3399986688.0000 - val_mae: 41768.2461\n",
            "Epoch 58/300\n",
            "1020/1020 - 2s - loss: 3545704448.0000 - mae: 41753.7461 - val_loss: 3384960000.0000 - val_mae: 41776.7109\n",
            "Epoch 59/300\n",
            "1020/1020 - 2s - loss: 3518068736.0000 - mae: 41530.0469 - val_loss: 3408585984.0000 - val_mae: 42086.8828\n",
            "Epoch 60/300\n",
            "1020/1020 - 2s - loss: 3509718016.0000 - mae: 41460.8242 - val_loss: 3396184576.0000 - val_mae: 42224.3477\n",
            "Epoch 61/300\n",
            "1020/1020 - 2s - loss: 3490958592.0000 - mae: 41349.5156 - val_loss: 3336827648.0000 - val_mae: 41377.2188\n",
            "Epoch 62/300\n",
            "1020/1020 - 2s - loss: 3476395264.0000 - mae: 41253.0039 - val_loss: 3361170176.0000 - val_mae: 41358.6133\n",
            "Epoch 63/300\n",
            "1020/1020 - 2s - loss: 3462150656.0000 - mae: 41181.4570 - val_loss: 3332095744.0000 - val_mae: 41446.4648\n",
            "Epoch 64/300\n",
            "1020/1020 - 2s - loss: 3448746240.0000 - mae: 41112.5078 - val_loss: 3349218304.0000 - val_mae: 41711.4492\n",
            "Epoch 65/300\n",
            "1020/1020 - 2s - loss: 3433348096.0000 - mae: 40995.4961 - val_loss: 3316664320.0000 - val_mae: 41473.7031\n",
            "Epoch 66/300\n",
            "1020/1020 - 2s - loss: 3417185536.0000 - mae: 40864.9609 - val_loss: 3291128064.0000 - val_mae: 40946.0625\n",
            "Epoch 67/300\n",
            "1020/1020 - 2s - loss: 3408715008.0000 - mae: 40858.1523 - val_loss: 3287176704.0000 - val_mae: 41022.5234\n",
            "Epoch 68/300\n",
            "1020/1020 - 2s - loss: 3391902720.0000 - mae: 40682.5000 - val_loss: 3297247488.0000 - val_mae: 41087.3320\n",
            "Epoch 69/300\n",
            "1020/1020 - 2s - loss: 3385840384.0000 - mae: 40653.3203 - val_loss: 3287892480.0000 - val_mae: 40448.9961\n",
            "Epoch 70/300\n",
            "1020/1020 - 2s - loss: 3373091584.0000 - mae: 40573.0820 - val_loss: 3292710912.0000 - val_mae: 41089.5664\n",
            "Epoch 71/300\n",
            "1020/1020 - 2s - loss: 3367406848.0000 - mae: 40505.1289 - val_loss: 3252945408.0000 - val_mae: 40767.0859\n",
            "Epoch 72/300\n",
            "1020/1020 - 2s - loss: 3349311488.0000 - mae: 40400.3594 - val_loss: 3260349952.0000 - val_mae: 40900.8320\n",
            "Epoch 73/300\n",
            "1020/1020 - 2s - loss: 3345231872.0000 - mae: 40303.7227 - val_loss: 3229621760.0000 - val_mae: 40711.5312\n",
            "Epoch 74/300\n",
            "1020/1020 - 2s - loss: 3330020608.0000 - mae: 40279.3867 - val_loss: 3231448064.0000 - val_mae: 40722.4414\n",
            "Epoch 75/300\n",
            "1020/1020 - 2s - loss: 3317142784.0000 - mae: 40169.6680 - val_loss: 3218346752.0000 - val_mae: 40118.9492\n",
            "Epoch 76/300\n",
            "1020/1020 - 2s - loss: 3317485568.0000 - mae: 40111.0234 - val_loss: 3227600128.0000 - val_mae: 40269.3555\n",
            "Epoch 77/300\n",
            "1020/1020 - 2s - loss: 3307441408.0000 - mae: 40036.3594 - val_loss: 3203260928.0000 - val_mae: 40521.4922\n",
            "Epoch 78/300\n",
            "1020/1020 - 2s - loss: 3294297088.0000 - mae: 39971.2891 - val_loss: 3220130304.0000 - val_mae: 40715.1211\n",
            "Epoch 79/300\n",
            "1020/1020 - 2s - loss: 3282504960.0000 - mae: 39900.4844 - val_loss: 3202408704.0000 - val_mae: 40393.7188\n",
            "Epoch 80/300\n",
            "1020/1020 - 2s - loss: 3279813888.0000 - mae: 39830.9609 - val_loss: 3174052608.0000 - val_mae: 40140.2344\n",
            "Epoch 81/300\n",
            "1020/1020 - 2s - loss: 3269355776.0000 - mae: 39736.0664 - val_loss: 3185316608.0000 - val_mae: 40252.3594\n",
            "Epoch 82/300\n",
            "1020/1020 - 2s - loss: 3263209728.0000 - mae: 39758.8438 - val_loss: 3194290944.0000 - val_mae: 40485.0391\n",
            "Epoch 83/300\n",
            "1020/1020 - 2s - loss: 3251382016.0000 - mae: 39635.3711 - val_loss: 3200386304.0000 - val_mae: 40624.6719\n",
            "Epoch 84/300\n",
            "1020/1020 - 2s - loss: 3240289792.0000 - mae: 39490.6602 - val_loss: 3165399808.0000 - val_mae: 40436.0664\n",
            "Epoch 85/300\n",
            "1020/1020 - 2s - loss: 3234090240.0000 - mae: 39494.1445 - val_loss: 3123490560.0000 - val_mae: 39581.2734\n",
            "Epoch 86/300\n",
            "1020/1020 - 2s - loss: 3223930112.0000 - mae: 39406.0898 - val_loss: 3119336448.0000 - val_mae: 39765.1211\n",
            "Epoch 87/300\n",
            "1020/1020 - 2s - loss: 3212099584.0000 - mae: 39306.3477 - val_loss: 3129993472.0000 - val_mae: 39690.4375\n",
            "Epoch 88/300\n",
            "1020/1020 - 2s - loss: 3206808576.0000 - mae: 39237.2656 - val_loss: 3102952960.0000 - val_mae: 39313.6133\n",
            "Epoch 89/300\n",
            "1020/1020 - 2s - loss: 3196305664.0000 - mae: 39203.7031 - val_loss: 3123261952.0000 - val_mae: 39332.3594\n",
            "Epoch 90/300\n",
            "1020/1020 - 2s - loss: 3181647872.0000 - mae: 39138.7148 - val_loss: 3132705536.0000 - val_mae: 39282.4414\n",
            "Epoch 91/300\n",
            "1020/1020 - 2s - loss: 3183517952.0000 - mae: 39026.0586 - val_loss: 3098789632.0000 - val_mae: 39341.8164\n",
            "Epoch 92/300\n",
            "1020/1020 - 2s - loss: 3176247808.0000 - mae: 38979.4648 - val_loss: 3083167488.0000 - val_mae: 39428.9648\n",
            "Epoch 93/300\n",
            "1020/1020 - 2s - loss: 3170865920.0000 - mae: 38929.2148 - val_loss: 3113296384.0000 - val_mae: 39801.1445\n",
            "Epoch 94/300\n",
            "1020/1020 - 2s - loss: 3163938048.0000 - mae: 38951.7070 - val_loss: 3092278784.0000 - val_mae: 38861.3906\n",
            "Epoch 95/300\n",
            "1020/1020 - 2s - loss: 3155993088.0000 - mae: 38846.7344 - val_loss: 3074054400.0000 - val_mae: 39496.8555\n",
            "Epoch 96/300\n",
            "1020/1020 - 2s - loss: 3151042048.0000 - mae: 38823.9492 - val_loss: 3086186752.0000 - val_mae: 38675.6484\n",
            "Epoch 97/300\n",
            "1020/1020 - 2s - loss: 3151434496.0000 - mae: 38749.9805 - val_loss: 3065067008.0000 - val_mae: 39325.1094\n",
            "Epoch 98/300\n",
            "1020/1020 - 2s - loss: 3142466816.0000 - mae: 38753.3516 - val_loss: 3050262016.0000 - val_mae: 38887.4141\n",
            "Epoch 99/300\n",
            "1020/1020 - 2s - loss: 3135692544.0000 - mae: 38646.4727 - val_loss: 3063168000.0000 - val_mae: 39413.4336\n",
            "Epoch 100/300\n",
            "1020/1020 - 2s - loss: 3128919040.0000 - mae: 38620.0664 - val_loss: 3058196224.0000 - val_mae: 39455.5000\n",
            "Epoch 101/300\n",
            "1020/1020 - 2s - loss: 3127316992.0000 - mae: 38612.7773 - val_loss: 3021736960.0000 - val_mae: 38761.6211\n",
            "Epoch 102/300\n",
            "1020/1020 - 2s - loss: 3123504896.0000 - mae: 38599.8867 - val_loss: 3029366016.0000 - val_mae: 38896.0352\n",
            "Epoch 103/300\n",
            "1020/1020 - 2s - loss: 3116124160.0000 - mae: 38522.9805 - val_loss: 3045932544.0000 - val_mae: 39368.7617\n",
            "Epoch 104/300\n",
            "1020/1020 - 2s - loss: 3117337344.0000 - mae: 38552.8398 - val_loss: 3043469568.0000 - val_mae: 38685.0977\n",
            "Epoch 105/300\n",
            "1020/1020 - 2s - loss: 3106502912.0000 - mae: 38454.4727 - val_loss: 3014719488.0000 - val_mae: 38624.2148\n",
            "Epoch 106/300\n",
            "1020/1020 - 2s - loss: 3106054912.0000 - mae: 38418.5352 - val_loss: 3028544512.0000 - val_mae: 38887.4805\n",
            "Epoch 107/300\n",
            "1020/1020 - 2s - loss: 3100612864.0000 - mae: 38416.9062 - val_loss: 3010832640.0000 - val_mae: 38664.3164\n",
            "Epoch 108/300\n",
            "1020/1020 - 2s - loss: 3093581312.0000 - mae: 38344.9609 - val_loss: 3004581120.0000 - val_mae: 38105.6016\n",
            "Epoch 109/300\n",
            "1020/1020 - 2s - loss: 3090524416.0000 - mae: 38329.8359 - val_loss: 3013046784.0000 - val_mae: 38955.3555\n",
            "Epoch 110/300\n",
            "1020/1020 - 2s - loss: 3087500288.0000 - mae: 38319.6953 - val_loss: 3010681344.0000 - val_mae: 38807.1875\n",
            "Epoch 111/300\n",
            "1020/1020 - 2s - loss: 3084843520.0000 - mae: 38282.9414 - val_loss: 2993310976.0000 - val_mae: 38437.7461\n",
            "Epoch 112/300\n",
            "1020/1020 - 2s - loss: 3076381696.0000 - mae: 38250.6523 - val_loss: 2991376384.0000 - val_mae: 38820.4297\n",
            "Epoch 113/300\n",
            "1020/1020 - 2s - loss: 3081332224.0000 - mae: 38219.5156 - val_loss: 2984366848.0000 - val_mae: 38255.6367\n",
            "Epoch 114/300\n",
            "1020/1020 - 2s - loss: 3072033792.0000 - mae: 38148.1797 - val_loss: 2982595840.0000 - val_mae: 38126.0859\n",
            "Epoch 115/300\n",
            "1020/1020 - 2s - loss: 3068790528.0000 - mae: 38152.8516 - val_loss: 2972461824.0000 - val_mae: 38572.3594\n",
            "Epoch 116/300\n",
            "1020/1020 - 2s - loss: 3067431680.0000 - mae: 38141.9414 - val_loss: 3001296128.0000 - val_mae: 38623.3555\n",
            "Epoch 117/300\n",
            "1020/1020 - 2s - loss: 3064336640.0000 - mae: 38083.6172 - val_loss: 3027613696.0000 - val_mae: 39506.2031\n",
            "Epoch 118/300\n",
            "1020/1020 - 2s - loss: 3058293248.0000 - mae: 38058.2812 - val_loss: 3015230464.0000 - val_mae: 38280.7031\n",
            "Epoch 119/300\n",
            "1020/1020 - 2s - loss: 3053257728.0000 - mae: 38089.6758 - val_loss: 2992256000.0000 - val_mae: 38160.1719\n",
            "Epoch 120/300\n",
            "1020/1020 - 2s - loss: 3051417600.0000 - mae: 37994.0820 - val_loss: 2980403712.0000 - val_mae: 38242.5938\n",
            "Epoch 121/300\n",
            "1020/1020 - 2s - loss: 3048206592.0000 - mae: 37956.5938 - val_loss: 2951227648.0000 - val_mae: 38594.6719\n",
            "Epoch 122/300\n",
            "1020/1020 - 2s - loss: 3039052288.0000 - mae: 37922.4258 - val_loss: 2961383936.0000 - val_mae: 38511.4453\n",
            "Epoch 123/300\n",
            "1020/1020 - 2s - loss: 3038524416.0000 - mae: 37971.0742 - val_loss: 2956259840.0000 - val_mae: 38456.4102\n",
            "Epoch 124/300\n",
            "1020/1020 - 2s - loss: 3037261824.0000 - mae: 37940.4648 - val_loss: 2985285888.0000 - val_mae: 38589.2031\n",
            "Epoch 125/300\n",
            "1020/1020 - 2s - loss: 3035940864.0000 - mae: 37928.0547 - val_loss: 2946340608.0000 - val_mae: 37925.5703\n",
            "Epoch 126/300\n",
            "1020/1020 - 2s - loss: 3032824064.0000 - mae: 37885.2969 - val_loss: 2941708544.0000 - val_mae: 38346.2109\n",
            "Epoch 127/300\n",
            "1020/1020 - 2s - loss: 3025188864.0000 - mae: 37859.4297 - val_loss: 2941350144.0000 - val_mae: 37905.1641\n",
            "Epoch 128/300\n",
            "1020/1020 - 2s - loss: 3019174656.0000 - mae: 37784.5742 - val_loss: 2932481792.0000 - val_mae: 38403.9102\n",
            "Epoch 129/300\n",
            "1020/1020 - 2s - loss: 3017848832.0000 - mae: 37746.9688 - val_loss: 2937959680.0000 - val_mae: 38162.7812\n",
            "Epoch 130/300\n",
            "1020/1020 - 2s - loss: 3016011008.0000 - mae: 37777.1133 - val_loss: 2953135360.0000 - val_mae: 38545.3164\n",
            "Epoch 131/300\n",
            "1020/1020 - 2s - loss: 3011970304.0000 - mae: 37738.7578 - val_loss: 2917845504.0000 - val_mae: 38117.9688\n",
            "Epoch 132/300\n",
            "1020/1020 - 2s - loss: 3011035136.0000 - mae: 37709.6055 - val_loss: 2946216448.0000 - val_mae: 38086.2266\n",
            "Epoch 133/300\n",
            "1020/1020 - 2s - loss: 3009116672.0000 - mae: 37714.4922 - val_loss: 2920545024.0000 - val_mae: 37875.3906\n",
            "Epoch 134/300\n",
            "1020/1020 - 2s - loss: 3003506432.0000 - mae: 37605.1562 - val_loss: 2953593600.0000 - val_mae: 38607.4062\n",
            "Epoch 135/300\n",
            "1020/1020 - 2s - loss: 3001145600.0000 - mae: 37645.7695 - val_loss: 2955189504.0000 - val_mae: 37898.9141\n",
            "Epoch 136/300\n",
            "1020/1020 - 2s - loss: 2999012608.0000 - mae: 37579.5547 - val_loss: 2937685504.0000 - val_mae: 38030.4219\n",
            "Epoch 137/300\n",
            "1020/1020 - 2s - loss: 2999495680.0000 - mae: 37621.2617 - val_loss: 2910738176.0000 - val_mae: 37954.9297\n",
            "Epoch 138/300\n",
            "1020/1020 - 2s - loss: 2994563840.0000 - mae: 37624.4297 - val_loss: 2948996608.0000 - val_mae: 37517.3281\n",
            "Epoch 139/300\n",
            "1020/1020 - 2s - loss: 2991785216.0000 - mae: 37571.4922 - val_loss: 2916171520.0000 - val_mae: 38005.4766\n",
            "Epoch 140/300\n",
            "1020/1020 - 2s - loss: 2983712000.0000 - mae: 37495.5820 - val_loss: 2944446720.0000 - val_mae: 37731.4727\n",
            "Epoch 141/300\n",
            "1020/1020 - 2s - loss: 2982877952.0000 - mae: 37520.9414 - val_loss: 2934330368.0000 - val_mae: 38695.1875\n",
            "Epoch 142/300\n",
            "1020/1020 - 2s - loss: 2983491328.0000 - mae: 37460.4844 - val_loss: 2911139840.0000 - val_mae: 37839.2539\n",
            "Epoch 143/300\n",
            "1020/1020 - 2s - loss: 2976495360.0000 - mae: 37542.3008 - val_loss: 2904042240.0000 - val_mae: 37680.3711\n",
            "Epoch 144/300\n",
            "1020/1020 - 2s - loss: 2971857664.0000 - mae: 37483.3789 - val_loss: 2928123904.0000 - val_mae: 38236.0312\n",
            "Epoch 145/300\n",
            "1020/1020 - 2s - loss: 2970279680.0000 - mae: 37439.6680 - val_loss: 2943366656.0000 - val_mae: 38532.5000\n",
            "Epoch 146/300\n",
            "1020/1020 - 2s - loss: 2967231232.0000 - mae: 37431.8867 - val_loss: 2889997568.0000 - val_mae: 37573.8359\n",
            "Epoch 147/300\n",
            "1020/1020 - 2s - loss: 2964380672.0000 - mae: 37366.1719 - val_loss: 2899475456.0000 - val_mae: 38118.3828\n",
            "Epoch 148/300\n",
            "1020/1020 - 2s - loss: 2964231936.0000 - mae: 37382.4336 - val_loss: 2894498816.0000 - val_mae: 37772.5703\n",
            "Epoch 149/300\n",
            "1020/1020 - 2s - loss: 2957778432.0000 - mae: 37352.6172 - val_loss: 2897333248.0000 - val_mae: 37801.4297\n",
            "Epoch 150/300\n",
            "1020/1020 - 2s - loss: 2957837312.0000 - mae: 37324.4102 - val_loss: 2881698048.0000 - val_mae: 37579.6641\n",
            "Epoch 151/300\n",
            "1020/1020 - 2s - loss: 2954939904.0000 - mae: 37319.5000 - val_loss: 2896023296.0000 - val_mae: 37790.1680\n",
            "Epoch 152/300\n",
            "1020/1020 - 2s - loss: 2946291712.0000 - mae: 37256.3906 - val_loss: 2938007552.0000 - val_mae: 38528.5000\n",
            "Epoch 153/300\n",
            "1020/1020 - 2s - loss: 2950637312.0000 - mae: 37247.6250 - val_loss: 2917099776.0000 - val_mae: 38355.3867\n",
            "Epoch 154/300\n",
            "1020/1020 - 2s - loss: 2944228864.0000 - mae: 37250.3281 - val_loss: 2894664704.0000 - val_mae: 37959.1641\n",
            "Epoch 155/300\n",
            "1020/1020 - 2s - loss: 2945472256.0000 - mae: 37237.3047 - val_loss: 2889697280.0000 - val_mae: 37500.5352\n",
            "Epoch 156/300\n",
            "1020/1020 - 2s - loss: 2935938560.0000 - mae: 37194.0273 - val_loss: 2920734976.0000 - val_mae: 37496.0586\n",
            "Epoch 157/300\n",
            "1020/1020 - 2s - loss: 2932332544.0000 - mae: 37152.9023 - val_loss: 2932963072.0000 - val_mae: 37477.8203\n",
            "Epoch 158/300\n",
            "1020/1020 - 2s - loss: 2936681216.0000 - mae: 37184.3594 - val_loss: 2902441472.0000 - val_mae: 37833.5078\n",
            "Epoch 159/300\n",
            "1020/1020 - 2s - loss: 2927052032.0000 - mae: 37124.3008 - val_loss: 2876946432.0000 - val_mae: 37135.1641\n",
            "Epoch 160/300\n",
            "1020/1020 - 2s - loss: 2925795328.0000 - mae: 37100.5625 - val_loss: 2872425984.0000 - val_mae: 37419.6758\n",
            "Epoch 161/300\n",
            "1020/1020 - 2s - loss: 2923921152.0000 - mae: 37038.3945 - val_loss: 2882415104.0000 - val_mae: 37726.7617\n",
            "Epoch 162/300\n",
            "1020/1020 - 2s - loss: 2920476160.0000 - mae: 37056.4297 - val_loss: 2870243328.0000 - val_mae: 37775.0273\n",
            "Epoch 163/300\n",
            "1020/1020 - 2s - loss: 2918892800.0000 - mae: 37073.2070 - val_loss: 2865220608.0000 - val_mae: 37464.3906\n",
            "Epoch 164/300\n",
            "1020/1020 - 2s - loss: 2917581056.0000 - mae: 36988.7695 - val_loss: 2852000512.0000 - val_mae: 37282.1328\n",
            "Epoch 165/300\n",
            "1020/1020 - 2s - loss: 2910041600.0000 - mae: 36975.6211 - val_loss: 2850022656.0000 - val_mae: 37471.2344\n",
            "Epoch 166/300\n",
            "1020/1020 - 2s - loss: 2905518080.0000 - mae: 36992.1953 - val_loss: 2868001280.0000 - val_mae: 37654.5312\n",
            "Epoch 167/300\n",
            "1020/1020 - 2s - loss: 2906294272.0000 - mae: 36950.2969 - val_loss: 2844203520.0000 - val_mae: 37454.8672\n",
            "Epoch 168/300\n",
            "1020/1020 - 2s - loss: 2894548480.0000 - mae: 36848.0664 - val_loss: 2846899968.0000 - val_mae: 37761.1445\n",
            "Epoch 169/300\n",
            "1020/1020 - 2s - loss: 2898062080.0000 - mae: 36881.8320 - val_loss: 2830745344.0000 - val_mae: 37177.7773\n",
            "Epoch 170/300\n",
            "1020/1020 - 2s - loss: 2891489024.0000 - mae: 36841.6133 - val_loss: 2838540800.0000 - val_mae: 37755.7930\n",
            "Epoch 171/300\n",
            "1020/1020 - 2s - loss: 2892126720.0000 - mae: 36773.2500 - val_loss: 2843945984.0000 - val_mae: 37842.6484\n",
            "Epoch 172/300\n",
            "1020/1020 - 2s - loss: 2888075520.0000 - mae: 36811.4453 - val_loss: 2852722944.0000 - val_mae: 37537.0352\n",
            "Epoch 173/300\n",
            "1020/1020 - 2s - loss: 2878871040.0000 - mae: 36732.3867 - val_loss: 2834552576.0000 - val_mae: 37337.9375\n",
            "Epoch 174/300\n",
            "1020/1020 - 2s - loss: 2872872192.0000 - mae: 36639.5430 - val_loss: 2849396480.0000 - val_mae: 37590.1094\n",
            "Epoch 175/300\n",
            "1020/1020 - 2s - loss: 2871515648.0000 - mae: 36666.4531 - val_loss: 2844781568.0000 - val_mae: 37422.6172\n",
            "Epoch 176/300\n",
            "1020/1020 - 2s - loss: 2866164736.0000 - mae: 36614.5039 - val_loss: 2841987584.0000 - val_mae: 37852.3359\n",
            "Epoch 177/300\n",
            "1020/1020 - 2s - loss: 2858963712.0000 - mae: 36601.6289 - val_loss: 2854158848.0000 - val_mae: 36732.1445\n",
            "Epoch 178/300\n",
            "1020/1020 - 2s - loss: 2861545984.0000 - mae: 36542.2266 - val_loss: 2832086784.0000 - val_mae: 37856.9609\n",
            "Epoch 179/300\n",
            "1020/1020 - 2s - loss: 2853821440.0000 - mae: 36585.9336 - val_loss: 2824773632.0000 - val_mae: 37254.4297\n",
            "Epoch 180/300\n",
            "1020/1020 - 2s - loss: 2849498880.0000 - mae: 36490.2266 - val_loss: 2847526912.0000 - val_mae: 38050.1094\n",
            "Epoch 181/300\n",
            "1020/1020 - 2s - loss: 2842288640.0000 - mae: 36462.6328 - val_loss: 2786089984.0000 - val_mae: 36852.3008\n",
            "Epoch 182/300\n",
            "1020/1020 - 2s - loss: 2839031552.0000 - mae: 36393.2344 - val_loss: 2791038720.0000 - val_mae: 36823.6328\n",
            "Epoch 183/300\n",
            "1020/1020 - 2s - loss: 2839518208.0000 - mae: 36452.9219 - val_loss: 2813226752.0000 - val_mae: 37656.6719\n",
            "Epoch 184/300\n",
            "1020/1020 - 2s - loss: 2833435392.0000 - mae: 36401.6953 - val_loss: 2775152640.0000 - val_mae: 36755.3359\n",
            "Epoch 185/300\n",
            "1020/1020 - 2s - loss: 2826554624.0000 - mae: 36287.5117 - val_loss: 2780055552.0000 - val_mae: 36731.2578\n",
            "Epoch 186/300\n",
            "1020/1020 - 2s - loss: 2817519104.0000 - mae: 36288.2852 - val_loss: 2779414784.0000 - val_mae: 36715.8945\n",
            "Epoch 187/300\n",
            "1020/1020 - 2s - loss: 2823370752.0000 - mae: 36321.6602 - val_loss: 2775814400.0000 - val_mae: 36344.5078\n",
            "Epoch 188/300\n",
            "1020/1020 - 2s - loss: 2816474368.0000 - mae: 36217.3086 - val_loss: 2777487616.0000 - val_mae: 37088.1602\n",
            "Epoch 189/300\n",
            "1020/1020 - 2s - loss: 2806578176.0000 - mae: 36190.6367 - val_loss: 2823255808.0000 - val_mae: 37867.2383\n",
            "Epoch 190/300\n",
            "1020/1020 - 2s - loss: 2812125184.0000 - mae: 36192.8516 - val_loss: 2766828032.0000 - val_mae: 36728.3789\n",
            "Epoch 191/300\n",
            "1020/1020 - 2s - loss: 2808953600.0000 - mae: 36145.0273 - val_loss: 2786900480.0000 - val_mae: 37287.0703\n",
            "Epoch 192/300\n",
            "1020/1020 - 2s - loss: 2801070592.0000 - mae: 36141.3242 - val_loss: 2751233280.0000 - val_mae: 36345.4414\n",
            "Epoch 193/300\n",
            "1020/1020 - 2s - loss: 2792578816.0000 - mae: 36081.5352 - val_loss: 2808866560.0000 - val_mae: 36608.8086\n",
            "Epoch 194/300\n",
            "1020/1020 - 2s - loss: 2794071808.0000 - mae: 36084.3242 - val_loss: 2742076160.0000 - val_mae: 37057.1484\n",
            "Epoch 195/300\n",
            "1020/1020 - 2s - loss: 2785097984.0000 - mae: 36006.6875 - val_loss: 2758424320.0000 - val_mae: 37058.9961\n",
            "Epoch 196/300\n",
            "1020/1020 - 2s - loss: 2784978432.0000 - mae: 35986.3086 - val_loss: 2763741696.0000 - val_mae: 37376.4531\n",
            "Epoch 197/300\n",
            "1020/1020 - 2s - loss: 2774874880.0000 - mae: 36013.9336 - val_loss: 2760536320.0000 - val_mae: 36695.7070\n",
            "Epoch 198/300\n",
            "1020/1020 - 2s - loss: 2782017792.0000 - mae: 35997.4297 - val_loss: 2712423168.0000 - val_mae: 36137.1641\n",
            "Epoch 199/300\n",
            "1020/1020 - 2s - loss: 2773970688.0000 - mae: 35964.0898 - val_loss: 2725555200.0000 - val_mae: 36651.7422\n",
            "Epoch 200/300\n",
            "1020/1020 - 2s - loss: 2768603392.0000 - mae: 35845.2227 - val_loss: 2742088192.0000 - val_mae: 36587.7930\n",
            "Epoch 201/300\n",
            "1020/1020 - 2s - loss: 2769111552.0000 - mae: 35883.4961 - val_loss: 2716646144.0000 - val_mae: 36146.5547\n",
            "Epoch 202/300\n",
            "1020/1020 - 2s - loss: 2767163392.0000 - mae: 35856.1133 - val_loss: 2776942080.0000 - val_mae: 37445.6953\n",
            "Epoch 203/300\n",
            "1020/1020 - 2s - loss: 2758202112.0000 - mae: 35838.9102 - val_loss: 2718519552.0000 - val_mae: 36434.2812\n",
            "Epoch 204/300\n",
            "1020/1020 - 2s - loss: 2757382400.0000 - mae: 35825.3672 - val_loss: 2741859072.0000 - val_mae: 36241.0547\n",
            "Epoch 205/300\n",
            "1020/1020 - 2s - loss: 2757518336.0000 - mae: 35819.0781 - val_loss: 2697153536.0000 - val_mae: 36214.8672\n",
            "Epoch 206/300\n",
            "1020/1020 - 2s - loss: 2749939712.0000 - mae: 35775.5469 - val_loss: 2740266752.0000 - val_mae: 37343.1680\n",
            "Epoch 207/300\n",
            "1020/1020 - 2s - loss: 2745806848.0000 - mae: 35810.9023 - val_loss: 2743934720.0000 - val_mae: 37223.3477\n",
            "Epoch 208/300\n",
            "1020/1020 - 2s - loss: 2746990848.0000 - mae: 35693.0430 - val_loss: 2746908160.0000 - val_mae: 37422.9961\n",
            "Epoch 209/300\n",
            "1020/1020 - 2s - loss: 2741211136.0000 - mae: 35702.9336 - val_loss: 2702059264.0000 - val_mae: 35971.7344\n",
            "Epoch 210/300\n",
            "1020/1020 - 2s - loss: 2739775232.0000 - mae: 35709.1016 - val_loss: 2706504192.0000 - val_mae: 36406.3906\n",
            "Epoch 211/300\n",
            "1020/1020 - 2s - loss: 2738390272.0000 - mae: 35687.2969 - val_loss: 2736781824.0000 - val_mae: 37092.7656\n",
            "Epoch 212/300\n",
            "1020/1020 - 2s - loss: 2731956736.0000 - mae: 35558.7305 - val_loss: 2692700672.0000 - val_mae: 36156.9219\n",
            "Epoch 213/300\n",
            "1020/1020 - 2s - loss: 2728367872.0000 - mae: 35608.7148 - val_loss: 2724519680.0000 - val_mae: 36041.7383\n",
            "Epoch 214/300\n",
            "1020/1020 - 2s - loss: 2726369792.0000 - mae: 35536.9688 - val_loss: 2702513920.0000 - val_mae: 36475.4297\n",
            "Epoch 215/300\n",
            "1020/1020 - 2s - loss: 2725201920.0000 - mae: 35626.1328 - val_loss: 2718189312.0000 - val_mae: 36128.4531\n",
            "Epoch 216/300\n",
            "1020/1020 - 2s - loss: 2726706176.0000 - mae: 35587.9336 - val_loss: 2688821248.0000 - val_mae: 36277.0898\n",
            "Epoch 217/300\n",
            "1020/1020 - 2s - loss: 2728099072.0000 - mae: 35574.3594 - val_loss: 2697643008.0000 - val_mae: 36246.3711\n",
            "Epoch 218/300\n",
            "1020/1020 - 2s - loss: 2725707776.0000 - mae: 35563.6172 - val_loss: 2695422208.0000 - val_mae: 36600.3516\n",
            "Epoch 219/300\n",
            "1020/1020 - 2s - loss: 2718026496.0000 - mae: 35564.0859 - val_loss: 2713146368.0000 - val_mae: 36437.8008\n",
            "Epoch 220/300\n",
            "1020/1020 - 2s - loss: 2714675456.0000 - mae: 35508.6445 - val_loss: 2664755712.0000 - val_mae: 36297.6641\n",
            "Epoch 221/300\n",
            "1020/1020 - 2s - loss: 2715785216.0000 - mae: 35558.7773 - val_loss: 2673167360.0000 - val_mae: 35872.8594\n",
            "Epoch 222/300\n",
            "1020/1020 - 2s - loss: 2709184000.0000 - mae: 35431.4805 - val_loss: 2684750848.0000 - val_mae: 35863.6016\n",
            "Epoch 223/300\n",
            "1020/1020 - 2s - loss: 2708948224.0000 - mae: 35463.2539 - val_loss: 2684756992.0000 - val_mae: 36497.1875\n",
            "Epoch 224/300\n",
            "1020/1020 - 2s - loss: 2711503104.0000 - mae: 35452.9141 - val_loss: 2654981888.0000 - val_mae: 35847.5508\n",
            "Epoch 225/300\n",
            "1020/1020 - 2s - loss: 2702771712.0000 - mae: 35452.4336 - val_loss: 2682772224.0000 - val_mae: 36152.8828\n",
            "Epoch 226/300\n",
            "1020/1020 - 2s - loss: 2705739776.0000 - mae: 35482.9492 - val_loss: 2668512512.0000 - val_mae: 35722.0508\n",
            "Epoch 227/300\n",
            "1020/1020 - 2s - loss: 2697511168.0000 - mae: 35371.9688 - val_loss: 2667774720.0000 - val_mae: 36230.3984\n",
            "Epoch 228/300\n",
            "1020/1020 - 2s - loss: 2700915200.0000 - mae: 35426.8359 - val_loss: 2661368832.0000 - val_mae: 35961.2148\n",
            "Epoch 229/300\n",
            "1020/1020 - 2s - loss: 2696836096.0000 - mae: 35377.7539 - val_loss: 2662292736.0000 - val_mae: 35934.5156\n",
            "Epoch 230/300\n",
            "1020/1020 - 2s - loss: 2689091328.0000 - mae: 35303.0664 - val_loss: 2691057152.0000 - val_mae: 36513.2578\n",
            "Epoch 231/300\n",
            "1020/1020 - 2s - loss: 2689365760.0000 - mae: 35277.8984 - val_loss: 2704603392.0000 - val_mae: 36993.7852\n",
            "Epoch 232/300\n",
            "1020/1020 - 2s - loss: 2693181952.0000 - mae: 35315.1250 - val_loss: 2679698176.0000 - val_mae: 36477.2227\n",
            "Epoch 233/300\n",
            "1020/1020 - 2s - loss: 2688105472.0000 - mae: 35313.7617 - val_loss: 2661606400.0000 - val_mae: 36395.5586\n",
            "Epoch 234/300\n",
            "1020/1020 - 2s - loss: 2683673088.0000 - mae: 35264.0039 - val_loss: 2650822912.0000 - val_mae: 35736.0312\n",
            "Epoch 235/300\n",
            "1020/1020 - 2s - loss: 2684791296.0000 - mae: 35289.0742 - val_loss: 2681605376.0000 - val_mae: 35846.9961\n",
            "Epoch 236/300\n",
            "1020/1020 - 2s - loss: 2683479296.0000 - mae: 35313.4336 - val_loss: 2635528448.0000 - val_mae: 36053.5664\n",
            "Epoch 237/300\n",
            "1020/1020 - 2s - loss: 2678822656.0000 - mae: 35350.6484 - val_loss: 2645957376.0000 - val_mae: 35684.0352\n",
            "Epoch 238/300\n",
            "1020/1020 - 2s - loss: 2678954496.0000 - mae: 35211.8945 - val_loss: 2662419968.0000 - val_mae: 36386.5078\n",
            "Epoch 239/300\n",
            "1020/1020 - 2s - loss: 2675691776.0000 - mae: 35221.1836 - val_loss: 2658189568.0000 - val_mae: 35383.9375\n",
            "Epoch 240/300\n",
            "1020/1020 - 2s - loss: 2668669440.0000 - mae: 35171.5391 - val_loss: 2666617600.0000 - val_mae: 36236.6875\n",
            "Epoch 241/300\n",
            "1020/1020 - 2s - loss: 2673061632.0000 - mae: 35229.5312 - val_loss: 2645162752.0000 - val_mae: 35366.1562\n",
            "Epoch 242/300\n",
            "1020/1020 - 2s - loss: 2674812928.0000 - mae: 35171.9375 - val_loss: 2630143744.0000 - val_mae: 35634.5234\n",
            "Epoch 243/300\n",
            "1020/1020 - 2s - loss: 2663261952.0000 - mae: 35078.1719 - val_loss: 2709414912.0000 - val_mae: 36579.7852\n",
            "Epoch 244/300\n",
            "1020/1020 - 2s - loss: 2668389888.0000 - mae: 35208.3516 - val_loss: 2637330432.0000 - val_mae: 35548.6641\n",
            "Epoch 245/300\n",
            "1020/1020 - 2s - loss: 2667215872.0000 - mae: 35129.7031 - val_loss: 2663582208.0000 - val_mae: 36022.6641\n",
            "Epoch 246/300\n",
            "1020/1020 - 2s - loss: 2660921088.0000 - mae: 35134.7422 - val_loss: 2643074304.0000 - val_mae: 35246.9570\n",
            "Epoch 247/300\n",
            "1020/1020 - 2s - loss: 2661474304.0000 - mae: 35101.6289 - val_loss: 2629932288.0000 - val_mae: 35752.9688\n",
            "Epoch 248/300\n",
            "1020/1020 - 2s - loss: 2658365952.0000 - mae: 35107.9414 - val_loss: 2641495808.0000 - val_mae: 35957.2109\n",
            "Epoch 249/300\n",
            "1020/1020 - 2s - loss: 2654080000.0000 - mae: 35023.8789 - val_loss: 2676311296.0000 - val_mae: 36526.1523\n",
            "Epoch 250/300\n",
            "1020/1020 - 2s - loss: 2652587776.0000 - mae: 35125.1797 - val_loss: 2638143488.0000 - val_mae: 35404.3164\n",
            "Epoch 251/300\n",
            "1020/1020 - 2s - loss: 2645838848.0000 - mae: 34998.6875 - val_loss: 2644368896.0000 - val_mae: 35571.8555\n",
            "Epoch 252/300\n",
            "1020/1020 - 2s - loss: 2649561600.0000 - mae: 34973.4492 - val_loss: 2623502592.0000 - val_mae: 35379.9844\n",
            "Epoch 253/300\n",
            "1020/1020 - 2s - loss: 2640619264.0000 - mae: 35004.6094 - val_loss: 2731192576.0000 - val_mae: 36233.8711\n",
            "Epoch 254/300\n",
            "1020/1020 - 2s - loss: 2649797120.0000 - mae: 35115.1055 - val_loss: 2615329536.0000 - val_mae: 35624.0273\n",
            "Epoch 255/300\n",
            "1020/1020 - 2s - loss: 2642739712.0000 - mae: 35006.0039 - val_loss: 2626074112.0000 - val_mae: 35787.0234\n",
            "Epoch 256/300\n",
            "1020/1020 - 2s - loss: 2642457088.0000 - mae: 35042.3984 - val_loss: 2619739136.0000 - val_mae: 35793.8125\n",
            "Epoch 257/300\n",
            "1020/1020 - 2s - loss: 2643539968.0000 - mae: 35054.0625 - val_loss: 2607089664.0000 - val_mae: 35594.5469\n",
            "Epoch 258/300\n",
            "1020/1020 - 2s - loss: 2631315712.0000 - mae: 34891.8828 - val_loss: 2653769472.0000 - val_mae: 35545.4648\n",
            "Epoch 259/300\n",
            "1020/1020 - 2s - loss: 2638406656.0000 - mae: 35002.8750 - val_loss: 2609230592.0000 - val_mae: 35480.9883\n",
            "Epoch 260/300\n",
            "1020/1020 - 2s - loss: 2631982080.0000 - mae: 34892.1250 - val_loss: 2635794176.0000 - val_mae: 35360.9648\n",
            "Epoch 261/300\n",
            "1020/1020 - 2s - loss: 2628720384.0000 - mae: 34953.8164 - val_loss: 2631998464.0000 - val_mae: 35580.7227\n",
            "Epoch 262/300\n",
            "1020/1020 - 2s - loss: 2627204608.0000 - mae: 34884.5312 - val_loss: 2613534720.0000 - val_mae: 35403.4414\n",
            "Epoch 263/300\n",
            "1020/1020 - 2s - loss: 2627005184.0000 - mae: 34864.6719 - val_loss: 2610420480.0000 - val_mae: 35250.3438\n",
            "Epoch 264/300\n",
            "1020/1020 - 2s - loss: 2623197440.0000 - mae: 34871.7383 - val_loss: 2690390784.0000 - val_mae: 36926.4336\n",
            "Epoch 265/300\n",
            "1020/1020 - 2s - loss: 2625841664.0000 - mae: 34869.1055 - val_loss: 2625825792.0000 - val_mae: 35596.7383\n",
            "Epoch 266/300\n",
            "1020/1020 - 2s - loss: 2622452480.0000 - mae: 34854.7578 - val_loss: 2636079104.0000 - val_mae: 36106.2812\n",
            "Epoch 267/300\n",
            "1020/1020 - 2s - loss: 2630986752.0000 - mae: 34952.0742 - val_loss: 2615163392.0000 - val_mae: 35507.9375\n",
            "Epoch 268/300\n",
            "1020/1020 - 2s - loss: 2616491520.0000 - mae: 34849.1133 - val_loss: 2620727296.0000 - val_mae: 35952.5039\n",
            "Epoch 269/300\n",
            "1020/1020 - 2s - loss: 2617360384.0000 - mae: 34841.1367 - val_loss: 2640596224.0000 - val_mae: 35876.3711\n",
            "Epoch 270/300\n",
            "1020/1020 - 2s - loss: 2612761344.0000 - mae: 34803.7891 - val_loss: 2709939712.0000 - val_mae: 36644.0039\n",
            "Epoch 271/300\n",
            "1020/1020 - 2s - loss: 2619275520.0000 - mae: 34897.8281 - val_loss: 2599341056.0000 - val_mae: 35213.9648\n",
            "Epoch 272/300\n",
            "1020/1020 - 2s - loss: 2610040320.0000 - mae: 34754.2031 - val_loss: 2614197504.0000 - val_mae: 35373.1797\n",
            "Epoch 273/300\n",
            "1020/1020 - 2s - loss: 2606441984.0000 - mae: 34767.7734 - val_loss: 2623439104.0000 - val_mae: 35585.6758\n",
            "Epoch 274/300\n",
            "1020/1020 - 2s - loss: 2613051904.0000 - mae: 34792.3086 - val_loss: 2591465728.0000 - val_mae: 35207.3164\n",
            "Epoch 275/300\n",
            "1020/1020 - 2s - loss: 2612330496.0000 - mae: 34815.4922 - val_loss: 2615355136.0000 - val_mae: 35247.7656\n",
            "Epoch 276/300\n",
            "1020/1020 - 2s - loss: 2607790592.0000 - mae: 34845.7227 - val_loss: 2642948864.0000 - val_mae: 35262.4453\n",
            "Epoch 277/300\n",
            "1020/1020 - 2s - loss: 2601242368.0000 - mae: 34780.9844 - val_loss: 2624468736.0000 - val_mae: 35710.5117\n",
            "Epoch 278/300\n",
            "1020/1020 - 2s - loss: 2600678400.0000 - mae: 34746.5312 - val_loss: 2599750144.0000 - val_mae: 35213.9375\n",
            "Epoch 279/300\n",
            "1020/1020 - 2s - loss: 2607540992.0000 - mae: 34750.0430 - val_loss: 2593434368.0000 - val_mae: 35709.7734\n",
            "Epoch 280/300\n",
            "1020/1020 - 2s - loss: 2601987328.0000 - mae: 34718.9844 - val_loss: 2594156544.0000 - val_mae: 35373.4414\n",
            "Epoch 281/300\n",
            "1020/1020 - 2s - loss: 2606864384.0000 - mae: 34750.2617 - val_loss: 2581248256.0000 - val_mae: 35292.4609\n",
            "Epoch 282/300\n",
            "1020/1020 - 2s - loss: 2599588608.0000 - mae: 34674.7266 - val_loss: 2613576192.0000 - val_mae: 35793.7461\n",
            "Epoch 283/300\n",
            "1020/1020 - 2s - loss: 2598951680.0000 - mae: 34713.5195 - val_loss: 2580681728.0000 - val_mae: 35033.4805\n",
            "Epoch 284/300\n",
            "1020/1020 - 2s - loss: 2598637312.0000 - mae: 34661.5664 - val_loss: 2574228224.0000 - val_mae: 35279.6133\n",
            "Epoch 285/300\n",
            "1020/1020 - 2s - loss: 2590322176.0000 - mae: 34646.6875 - val_loss: 2713303040.0000 - val_mae: 37523.3164\n",
            "Epoch 286/300\n",
            "1020/1020 - 2s - loss: 2595514624.0000 - mae: 34687.2070 - val_loss: 2590662144.0000 - val_mae: 35373.5234\n",
            "Epoch 287/300\n",
            "1020/1020 - 2s - loss: 2590370048.0000 - mae: 34651.7852 - val_loss: 2582979584.0000 - val_mae: 34927.8242\n",
            "Epoch 288/300\n",
            "1020/1020 - 2s - loss: 2577467136.0000 - mae: 34571.3008 - val_loss: 2656478720.0000 - val_mae: 35844.5391\n",
            "Epoch 289/300\n",
            "1020/1020 - 2s - loss: 2592945664.0000 - mae: 34701.4492 - val_loss: 2610153728.0000 - val_mae: 35228.0469\n",
            "Epoch 290/300\n",
            "1020/1020 - 2s - loss: 2587396608.0000 - mae: 34669.9883 - val_loss: 2591192832.0000 - val_mae: 35475.4180\n",
            "Epoch 291/300\n",
            "1020/1020 - 2s - loss: 2588459776.0000 - mae: 34568.6094 - val_loss: 2597405952.0000 - val_mae: 35259.9609\n",
            "Epoch 292/300\n",
            "1020/1020 - 2s - loss: 2580244480.0000 - mae: 34544.8281 - val_loss: 2607822592.0000 - val_mae: 35921.9688\n",
            "Epoch 293/300\n",
            "1020/1020 - 2s - loss: 2579749888.0000 - mae: 34581.1172 - val_loss: 2579019264.0000 - val_mae: 35301.3828\n",
            "Epoch 294/300\n",
            "1020/1020 - 2s - loss: 2578470912.0000 - mae: 34612.6680 - val_loss: 2575548416.0000 - val_mae: 35521.1445\n",
            "Epoch 295/300\n",
            "1020/1020 - 2s - loss: 2576760064.0000 - mae: 34541.9219 - val_loss: 2573487616.0000 - val_mae: 35137.6367\n",
            "Epoch 296/300\n",
            "1020/1020 - 2s - loss: 2581646080.0000 - mae: 34524.7891 - val_loss: 2565566976.0000 - val_mae: 35145.3984\n",
            "Epoch 297/300\n",
            "1020/1020 - 2s - loss: 2573029120.0000 - mae: 34540.6250 - val_loss: 2621805824.0000 - val_mae: 35485.2031\n",
            "Epoch 298/300\n",
            "1020/1020 - 2s - loss: 2574548224.0000 - mae: 34528.8242 - val_loss: 2565159680.0000 - val_mae: 35356.0234\n",
            "Epoch 299/300\n",
            "1020/1020 - 2s - loss: 2571121152.0000 - mae: 34530.3516 - val_loss: 2576422400.0000 - val_mae: 35469.7188\n",
            "Epoch 300/300\n",
            "1020/1020 - 2s - loss: 2571732224.0000 - mae: 34553.5977 - val_loss: 2565175040.0000 - val_mae: 34984.3242\n"
          ]
        }
      ],
      "source": [
        "history = model.fit(x_train,\n",
        "                    y_train,\n",
        "                    batch_size=15,\n",
        "                    epochs=300,\n",
        "                    validation_split=0.1,\n",
        "                    verbose=2)"
      ]
    },
    {
      "cell_type": "markdown",
      "metadata": {
        "papermill": {
          "duration": 0.217392,
          "end_time": "2024-03-09T13:43:51.029768",
          "exception": false,
          "start_time": "2024-03-09T13:43:50.812376",
          "status": "completed"
        },
        "tags": [],
        "id": "iBE0-4XwfYpb"
      },
      "source": [
        "## Визуализация качества обучения"
      ]
    },
    {
      "cell_type": "code",
      "execution_count": null,
      "metadata": {
        "execution": {
          "iopub.execute_input": "2024-03-09T13:43:51.502210Z",
          "iopub.status.busy": "2024-03-09T13:43:51.501552Z",
          "iopub.status.idle": "2024-03-09T13:43:51.710810Z",
          "shell.execute_reply": "2024-03-09T13:43:51.710194Z",
          "shell.execute_reply.started": "2024-03-09T13:31:25.015948Z"
        },
        "papermill": {
          "duration": 0.465291,
          "end_time": "2024-03-09T13:43:51.710953",
          "exception": false,
          "start_time": "2024-03-09T13:43:51.245662",
          "status": "completed"
        },
        "tags": [],
        "id": "77uB5f47fYpc",
        "outputId": "03b75433-2bea-41d5-9e29-755e7157378e"
      },
      "outputs": [
        {
          "data": {
            "image/png": "[encoded data removed]",
            "text/plain": [
              "<Figure size 432x288 with 1 Axes>"
            ]
          },
          "metadata": {
            "needs_background": "light"
          },
          "output_type": "display_data"
        }
      ],
      "source": [
        "plt.plot(history.history['mae'],\n",
        "         label='Средняя абсолютная ошибка на обучающем наборе')\n",
        "plt.plot(history.history['val_mae'],\n",
        "         label='Средняя абсолютная ошибка на проверочном наборе')\n",
        "plt.xlabel('Эпоха обучения')\n",
        "plt.ylabel('Средняя абсолютная ошибка')\n",
        "plt.legend()\n",
        "plt.show()"
      ]
    },
    {
      "cell_type": "markdown",
      "metadata": {
        "papermill": {
          "duration": 0.216422,
          "end_time": "2024-03-09T13:43:52.143630",
          "exception": false,
          "start_time": "2024-03-09T13:43:51.927208",
          "status": "completed"
        },
        "tags": [],
        "id": "kOqPjzbHfYpc"
      },
      "source": [
        "## Готовим данные для теста на liderboard"
      ]
    },
    {
      "cell_type": "markdown",
      "metadata": {
        "papermill": {
          "duration": 0.221799,
          "end_time": "2024-03-09T13:43:52.581560",
          "exception": false,
          "start_time": "2024-03-09T13:43:52.359761",
          "status": "completed"
        },
        "tags": [],
        "id": "jdf-A0rnfYpc"
      },
      "source": [
        "Делаем предсказания на тестовом наборе данных"
      ]
    },
    {
      "cell_type": "code",
      "execution_count": null,
      "metadata": {
        "execution": {
          "iopub.execute_input": "2024-03-09T13:43:53.020054Z",
          "iopub.status.busy": "2024-03-09T13:43:53.019378Z",
          "iopub.status.idle": "2024-03-09T13:43:53.190056Z",
          "shell.execute_reply": "2024-03-09T13:43:53.189307Z",
          "shell.execute_reply.started": "2024-03-09T13:31:25.225227Z"
        },
        "papermill": {
          "duration": 0.390705,
          "end_time": "2024-03-09T13:43:53.190218",
          "exception": false,
          "start_time": "2024-03-09T13:43:52.799513",
          "status": "completed"
        },
        "tags": [],
        "id": "BP23rJMhfYpc",
        "outputId": "bdb28a74-5941-40b4-b287-2766538df325"
      },
      "outputs": [
        {
          "data": {
            "text/plain": [
              "array([[ 52586.09 ],\n",
              "       [ 77758.03 ],\n",
              "       [ 48188.75 ],\n",
              "       ...,\n",
              "       [302668.62 ],\n",
              "       [ 85900.016],\n",
              "       [119662.08 ]], dtype=float32)"
            ]
          },
          "execution_count": 14,
          "metadata": {},
          "output_type": "execute_result"
        }
      ],
      "source": [
        "\"\"\"делаем предсказания по всем тестовым данным\"\"\"\n",
        "predictions = model.predict(x_test)\n",
        "predictions"
      ]
    },
    {
      "cell_type": "markdown",
      "metadata": {
        "papermill": {
          "duration": 0.220404,
          "end_time": "2024-03-09T13:43:53.649785",
          "exception": false,
          "start_time": "2024-03-09T13:43:53.429381",
          "status": "completed"
        },
        "tags": [],
        "id": "VADNG0mWfYpc"
      },
      "source": [
        "Пишем результаты предсказаний в шаблон \"sample_submission\""
      ]
    },
    {
      "cell_type": "code",
      "execution_count": null,
      "metadata": {
        "execution": {
          "iopub.execute_input": "2024-03-09T13:43:54.085601Z",
          "iopub.status.busy": "2024-03-09T13:43:54.084877Z",
          "iopub.status.idle": "2024-03-09T13:43:54.087893Z",
          "shell.execute_reply": "2024-03-09T13:43:54.087301Z",
          "shell.execute_reply.started": "2024-03-09T13:31:25.360112Z"
        },
        "papermill": {
          "duration": 0.223088,
          "end_time": "2024-03-09T13:43:54.088043",
          "exception": false,
          "start_time": "2024-03-09T13:43:53.864955",
          "status": "completed"
        },
        "tags": [],
        "id": "4krZGu7XfYpc"
      },
      "outputs": [],
      "source": [
        "\"\"\"используем файл с правильным шаблоном формата записи ответов и пишем в него наши предсказания\"\"\"\n",
        "sample_submission['median_house_value'] = predictions"
      ]
    },
    {
      "cell_type": "markdown",
      "metadata": {
        "papermill": {
          "duration": 0.216192,
          "end_time": "2024-03-09T13:43:54.520223",
          "exception": false,
          "start_time": "2024-03-09T13:43:54.304031",
          "status": "completed"
        },
        "tags": [],
        "id": "uFgoU7HdfYpc"
      },
      "source": [
        "Записываем ответы для проверки на liderboard"
      ]
    },
    {
      "cell_type": "code",
      "execution_count": null,
      "metadata": {
        "execution": {
          "iopub.execute_input": "2024-03-09T13:43:54.988031Z",
          "iopub.status.busy": "2024-03-09T13:43:54.987414Z",
          "iopub.status.idle": "2024-03-09T13:43:55.124695Z",
          "shell.execute_reply": "2024-03-09T13:43:55.124111Z",
          "shell.execute_reply.started": "2024-03-09T13:31:25.366354Z"
        },
        "papermill": {
          "duration": 0.368331,
          "end_time": "2024-03-09T13:43:55.124865",
          "exception": false,
          "start_time": "2024-03-09T13:43:54.756534",
          "status": "completed"
        },
        "tags": [],
        "id": "924oSzqQfYpc"
      },
      "outputs": [],
      "source": [
        "\"\"\"to_csv - пишет табличные данные в файл '.csv' \"\"\"\n",
        "sample_submission.to_csv('sample_submission.csv')"
      ]
    }
  ],
  "metadata": {
    "kaggle": {
      "accelerator": "gpu",
      "dataSources": [
        {
          "databundleVersionId": 2011202,
          "sourceId": 26092,
          "sourceType": "competition"
        }
      ],
      "dockerImageVersionId": 30068,
      "isGpuEnabled": true,
      "isInternetEnabled": true,
      "language": "python",
      "sourceType": "notebook"
    },
    "kernelspec": {
      "display_name": "Python 3",
      "language": "python",
      "name": "python3"
    },
    "language_info": {
      "codemirror_mode": {
        "name": "ipython",
        "version": 3
      },
      "file_extension": ".py",
      "mimetype": "text/x-python",
      "name": "python",
      "nbconvert_exporter": "python",
      "pygments_lexer": "ipython3",
      "version": "3.7.9"
    },
    "papermill": {
      "default_parameters": {},
      "duration": 623.248457,
      "end_time": "2024-03-09T13:43:56.655233",
      "environment_variables": {},
      "exception": null,
      "input_path": "__notebook__.ipynb",
      "output_path": "__notebook__.ipynb",
      "parameters": {},
      "start_time": "2024-03-09T13:33:33.406776",
      "version": "2.2.2"
    },
    "colab": {
      "provenance": [],
      "include_colab_link": true
    }
  },
  "nbformat": 4,
  "nbformat_minor": 0
}