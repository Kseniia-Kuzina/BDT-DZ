{
  "cells": [
    {
      "cell_type": "markdown",
      "metadata": {
        "id": "view-in-github",
        "colab_type": "text"
      },
      "source": [
        "<a href=\"https://colab.research.google.com/github/Kseniia-Kuzina/BDT-DZ/blob/main/%D0%9A%D0%BE%D0%BD%D1%82%D1%80%D0%BE%D0%BB%D1%8C_%D0%B7%D0%BD%D0%B0%D0%BD%D0%B8%D0%B9_3_2.ipynb\" target=\"_parent\"><img src=\"https://colab.research.google.com/assets/colab-badge.svg\" alt=\"Open In Colab\"/></a>"
      ]
    },
    {
      "cell_type": "markdown",
      "metadata": {
        "id": "1gxRZ_lI-4Da"
      },
      "source": [
        "###Задание"
      ]
    },
    {
      "cell_type": "markdown",
      "metadata": {
        "id": "35zqDBC_ksBq"
      },
      "source": [
        "# 1."
      ]
    },
    {
      "cell_type": "markdown",
      "metadata": {
        "id": "_Atec9Uy_CYJ"
      },
      "source": [
        "1) Запустить ячейку ниже, чтобы получить 2 жанра. Для полученных жанров провести все этапы предварительной обработки текста (как в примере), обучить наивный байесовский классификатор, численно оценить его работу."
      ]
    },
    {
      "cell_type": "code",
      "execution_count": 1,
      "metadata": {
        "colab": {
          "base_uri": "https://localhost:8080/"
        },
        "id": "XxkZ901zyLPQ",
        "outputId": "989225f3-b746-4ec0-e583-236b6dcb7ed1"
      },
      "outputs": [
        {
          "output_type": "stream",
          "name": "stdout",
          "text": [
            "ваши жанры Rock и Country\n"
          ]
        }
      ],
      "source": [
        " import random\n",
        " lst = ['Christian', 'Country', 'Pop', 'Rock', 'R&B']\n",
        " print('ваши жанры', random.choice(lst), 'и', random.choice(lst))"
      ]
    },
    {
      "cell_type": "code",
      "source": [
        "from google.colab import drive\n",
        "drive.mount('/content/drive')"
      ],
      "metadata": {
        "colab": {
          "base_uri": "https://localhost:8080/"
        },
        "id": "SkBgN5q6xMha",
        "outputId": "c25b8497-b634-4a07-ad6e-98f2731840ee"
      },
      "execution_count": 2,
      "outputs": [
        {
          "output_type": "stream",
          "name": "stdout",
          "text": [
            "Mounted at /content/drive\n"
          ]
        }
      ]
    },
    {
      "cell_type": "code",
      "execution_count": 3,
      "metadata": {
        "id": "VbUnwn3ciOQh",
        "colab": {
          "base_uri": "https://localhost:8080/",
          "height": 441
        },
        "outputId": "885928d1-f164-4e1e-a98d-384fe5a7ac1d"
      },
      "outputs": [
        {
          "output_type": "stream",
          "name": "stdout",
          "text": [
            "Drive already mounted at /content/drive/; to attempt to forcibly remount, call drive.mount(\"/content/drive/\", force_remount=True).\n"
          ]
        },
        {
          "output_type": "execute_result",
          "data": {
            "text/plain": [
              "       genre                                             lyrics  \\\n",
              "94   Country   Your cheatin heart will make you weep Youll c...   \n",
              "95   Country   I was standing by the window On a dark and cl...   \n",
              "96   Country   Blue moon of Kentucky keep on shinin Shine on...   \n",
              "97   Country   Hear that lonesome whippoorwill He sounds too...   \n",
              "98   Country   (Hank Cochran)  Make the world go away And ge...   \n",
              "..       ...                                                ...   \n",
              "462     Rock   Cant explain all the feelings that youre maki...   \n",
              "463     Rock   One foot on the brake and one on the gas, hey...   \n",
              "464     Rock   Carry on my wayward son Therell be peace when...   \n",
              "465     Rock   Ooh yeah Turn it up Come on  Im working hard,...   \n",
              "466     Rock   Out on the road for forty days Last night in ...   \n",
              "\n",
              "                                               lowered  \n",
              "94    your cheatin heart will make you weep youll c...  \n",
              "95    i was standing by the window on a dark and cl...  \n",
              "96    blue moon of kentucky keep on shinin shine on...  \n",
              "97    hear that lonesome whippoorwill he sounds too...  \n",
              "98    (hank cochran)  make the world go away and ge...  \n",
              "..                                                 ...  \n",
              "462   cant explain all the feelings that youre maki...  \n",
              "463   one foot on the brake and one on the gas, hey...  \n",
              "464   carry on my wayward son therell be peace when...  \n",
              "465   ooh yeah turn it up come on  im working hard,...  \n",
              "466   out on the road for forty days last night in ...  \n",
              "\n",
              "[182 rows x 3 columns]"
            ],
            "text/html": [
              "\n",
              "  <div id=\"df-2dbf819a-f2a9-46fe-9575-50faa3b5baa4\" class=\"colab-df-container\">\n",
              "    <div>\n",
              "<style scoped>\n",
              "    .dataframe tbody tr th:only-of-type {\n",
              "        vertical-align: middle;\n",
              "    }\n",
              "\n",
              "    .dataframe tbody tr th {\n",
              "        vertical-align: top;\n",
              "    }\n",
              "\n",
              "    .dataframe thead th {\n",
              "        text-align: right;\n",
              "    }\n",
              "</style>\n",
              "<table border=\"1\" class=\"dataframe\">\n",
              "  <thead>\n",
              "    <tr style=\"text-align: right;\">\n",
              "      <th></th>\n",
              "      <th>genre</th>\n",
              "      <th>lyrics</th>\n",
              "      <th>lowered</th>\n",
              "    </tr>\n",
              "  </thead>\n",
              "  <tbody>\n",
              "    <tr>\n",
              "      <th>94</th>\n",
              "      <td>Country</td>\n",
              "      <td>Your cheatin heart will make you weep Youll c...</td>\n",
              "      <td>your cheatin heart will make you weep youll c...</td>\n",
              "    </tr>\n",
              "    <tr>\n",
              "      <th>95</th>\n",
              "      <td>Country</td>\n",
              "      <td>I was standing by the window On a dark and cl...</td>\n",
              "      <td>i was standing by the window on a dark and cl...</td>\n",
              "    </tr>\n",
              "    <tr>\n",
              "      <th>96</th>\n",
              "      <td>Country</td>\n",
              "      <td>Blue moon of Kentucky keep on shinin Shine on...</td>\n",
              "      <td>blue moon of kentucky keep on shinin shine on...</td>\n",
              "    </tr>\n",
              "    <tr>\n",
              "      <th>97</th>\n",
              "      <td>Country</td>\n",
              "      <td>Hear that lonesome whippoorwill He sounds too...</td>\n",
              "      <td>hear that lonesome whippoorwill he sounds too...</td>\n",
              "    </tr>\n",
              "    <tr>\n",
              "      <th>98</th>\n",
              "      <td>Country</td>\n",
              "      <td>(Hank Cochran)  Make the world go away And ge...</td>\n",
              "      <td>(hank cochran)  make the world go away and ge...</td>\n",
              "    </tr>\n",
              "    <tr>\n",
              "      <th>...</th>\n",
              "      <td>...</td>\n",
              "      <td>...</td>\n",
              "      <td>...</td>\n",
              "    </tr>\n",
              "    <tr>\n",
              "      <th>462</th>\n",
              "      <td>Rock</td>\n",
              "      <td>Cant explain all the feelings that youre maki...</td>\n",
              "      <td>cant explain all the feelings that youre maki...</td>\n",
              "    </tr>\n",
              "    <tr>\n",
              "      <th>463</th>\n",
              "      <td>Rock</td>\n",
              "      <td>One foot on the brake and one on the gas, hey...</td>\n",
              "      <td>one foot on the brake and one on the gas, hey...</td>\n",
              "    </tr>\n",
              "    <tr>\n",
              "      <th>464</th>\n",
              "      <td>Rock</td>\n",
              "      <td>Carry on my wayward son Therell be peace when...</td>\n",
              "      <td>carry on my wayward son therell be peace when...</td>\n",
              "    </tr>\n",
              "    <tr>\n",
              "      <th>465</th>\n",
              "      <td>Rock</td>\n",
              "      <td>Ooh yeah Turn it up Come on  Im working hard,...</td>\n",
              "      <td>ooh yeah turn it up come on  im working hard,...</td>\n",
              "    </tr>\n",
              "    <tr>\n",
              "      <th>466</th>\n",
              "      <td>Rock</td>\n",
              "      <td>Out on the road for forty days Last night in ...</td>\n",
              "      <td>out on the road for forty days last night in ...</td>\n",
              "    </tr>\n",
              "  </tbody>\n",
              "</table>\n",
              "<p>182 rows × 3 columns</p>\n",
              "</div>\n",
              "    <div class=\"colab-df-buttons\">\n",
              "\n",
              "  <div class=\"colab-df-container\">\n",
              "    <button class=\"colab-df-convert\" onclick=\"convertToInteractive('df-2dbf819a-f2a9-46fe-9575-50faa3b5baa4')\"\n",
              "            title=\"Convert this dataframe to an interactive table.\"\n",
              "            style=\"display:none;\">\n",
              "\n",
              "  <svg xmlns=\"http://www.w3.org/2000/svg\" height=\"24px\" viewBox=\"0 -960 960 960\">\n",
              "    <path d=\"M120-120v-720h720v720H120Zm60-500h600v-160H180v160Zm220 220h160v-160H400v160Zm0 220h160v-160H400v160ZM180-400h160v-160H180v160Zm440 0h160v-160H620v160ZM180-180h160v-160H180v160Zm440 0h160v-160H620v160Z\"/>\n",
              "  </svg>\n",
              "    </button>\n",
              "\n",
              "  <style>\n",
              "    .colab-df-container {\n",
              "      display:flex;\n",
              "      gap: 12px;\n",
              "    }\n",
              "\n",
              "    .colab-df-convert {\n",
              "      background-color: #E8F0FE;\n",
              "      border: none;\n",
              "      border-radius: 50%;\n",
              "      cursor: pointer;\n",
              "      display: none;\n",
              "      fill: #1967D2;\n",
              "      height: 32px;\n",
              "      padding: 0 0 0 0;\n",
              "      width: 32px;\n",
              "    }\n",
              "\n",
              "    .colab-df-convert:hover {\n",
              "      background-color: #E2EBFA;\n",
              "      box-shadow: 0px 1px 2px rgba(60, 64, 67, 0.3), 0px 1px 3px 1px rgba(60, 64, 67, 0.15);\n",
              "      fill: #174EA6;\n",
              "    }\n",
              "\n",
              "    .colab-df-buttons div {\n",
              "      margin-bottom: 4px;\n",
              "    }\n",
              "\n",
              "    [theme=dark] .colab-df-convert {\n",
              "      background-color: #3B4455;\n",
              "      fill: #D2E3FC;\n",
              "    }\n",
              "\n",
              "    [theme=dark] .colab-df-convert:hover {\n",
              "      background-color: #434B5C;\n",
              "      box-shadow: 0px 1px 3px 1px rgba(0, 0, 0, 0.15);\n",
              "      filter: drop-shadow(0px 1px 2px rgba(0, 0, 0, 0.3));\n",
              "      fill: #FFFFFF;\n",
              "    }\n",
              "  </style>\n",
              "\n",
              "    <script>\n",
              "      const buttonEl =\n",
              "        document.querySelector('#df-2dbf819a-f2a9-46fe-9575-50faa3b5baa4 button.colab-df-convert');\n",
              "      buttonEl.style.display =\n",
              "        google.colab.kernel.accessAllowed ? 'block' : 'none';\n",
              "\n",
              "      async function convertToInteractive(key) {\n",
              "        const element = document.querySelector('#df-2dbf819a-f2a9-46fe-9575-50faa3b5baa4');\n",
              "        const dataTable =\n",
              "          await google.colab.kernel.invokeFunction('convertToInteractive',\n",
              "                                                    [key], {});\n",
              "        if (!dataTable) return;\n",
              "\n",
              "        const docLinkHtml = 'Like what you see? Visit the ' +\n",
              "          '<a target=\"_blank\" href=https://colab.research.google.com/notebooks/data_table.ipynb>data table notebook</a>'\n",
              "          + ' to learn more about interactive tables.';\n",
              "        element.innerHTML = '';\n",
              "        dataTable['output_type'] = 'display_data';\n",
              "        await google.colab.output.renderOutput(dataTable, element);\n",
              "        const docLink = document.createElement('div');\n",
              "        docLink.innerHTML = docLinkHtml;\n",
              "        element.appendChild(docLink);\n",
              "      }\n",
              "    </script>\n",
              "  </div>\n",
              "\n",
              "\n",
              "<div id=\"df-8486be27-4e10-4535-b932-f78d9c2b689f\">\n",
              "  <button class=\"colab-df-quickchart\" onclick=\"quickchart('df-8486be27-4e10-4535-b932-f78d9c2b689f')\"\n",
              "            title=\"Suggest charts\"\n",
              "            style=\"display:none;\">\n",
              "\n",
              "<svg xmlns=\"http://www.w3.org/2000/svg\" height=\"24px\"viewBox=\"0 0 24 24\"\n",
              "     width=\"24px\">\n",
              "    <g>\n",
              "        <path d=\"M19 3H5c-1.1 0-2 .9-2 2v14c0 1.1.9 2 2 2h14c1.1 0 2-.9 2-2V5c0-1.1-.9-2-2-2zM9 17H7v-7h2v7zm4 0h-2V7h2v10zm4 0h-2v-4h2v4z\"/>\n",
              "    </g>\n",
              "</svg>\n",
              "  </button>\n",
              "\n",
              "<style>\n",
              "  .colab-df-quickchart {\n",
              "      --bg-color: #E8F0FE;\n",
              "      --fill-color: #1967D2;\n",
              "      --hover-bg-color: #E2EBFA;\n",
              "      --hover-fill-color: #174EA6;\n",
              "      --disabled-fill-color: #AAA;\n",
              "      --disabled-bg-color: #DDD;\n",
              "  }\n",
              "\n",
              "  [theme=dark] .colab-df-quickchart {\n",
              "      --bg-color: #3B4455;\n",
              "      --fill-color: #D2E3FC;\n",
              "      --hover-bg-color: #434B5C;\n",
              "      --hover-fill-color: #FFFFFF;\n",
              "      --disabled-bg-color: #3B4455;\n",
              "      --disabled-fill-color: #666;\n",
              "  }\n",
              "\n",
              "  .colab-df-quickchart {\n",
              "    background-color: var(--bg-color);\n",
              "    border: none;\n",
              "    border-radius: 50%;\n",
              "    cursor: pointer;\n",
              "    display: none;\n",
              "    fill: var(--fill-color);\n",
              "    height: 32px;\n",
              "    padding: 0;\n",
              "    width: 32px;\n",
              "  }\n",
              "\n",
              "  .colab-df-quickchart:hover {\n",
              "    background-color: var(--hover-bg-color);\n",
              "    box-shadow: 0 1px 2px rgba(60, 64, 67, 0.3), 0 1px 3px 1px rgba(60, 64, 67, 0.15);\n",
              "    fill: var(--button-hover-fill-color);\n",
              "  }\n",
              "\n",
              "  .colab-df-quickchart-complete:disabled,\n",
              "  .colab-df-quickchart-complete:disabled:hover {\n",
              "    background-color: var(--disabled-bg-color);\n",
              "    fill: var(--disabled-fill-color);\n",
              "    box-shadow: none;\n",
              "  }\n",
              "\n",
              "  .colab-df-spinner {\n",
              "    border: 2px solid var(--fill-color);\n",
              "    border-color: transparent;\n",
              "    border-bottom-color: var(--fill-color);\n",
              "    animation:\n",
              "      spin 1s steps(1) infinite;\n",
              "  }\n",
              "\n",
              "  @keyframes spin {\n",
              "    0% {\n",
              "      border-color: transparent;\n",
              "      border-bottom-color: var(--fill-color);\n",
              "      border-left-color: var(--fill-color);\n",
              "    }\n",
              "    20% {\n",
              "      border-color: transparent;\n",
              "      border-left-color: var(--fill-color);\n",
              "      border-top-color: var(--fill-color);\n",
              "    }\n",
              "    30% {\n",
              "      border-color: transparent;\n",
              "      border-left-color: var(--fill-color);\n",
              "      border-top-color: var(--fill-color);\n",
              "      border-right-color: var(--fill-color);\n",
              "    }\n",
              "    40% {\n",
              "      border-color: transparent;\n",
              "      border-right-color: var(--fill-color);\n",
              "      border-top-color: var(--fill-color);\n",
              "    }\n",
              "    60% {\n",
              "      border-color: transparent;\n",
              "      border-right-color: var(--fill-color);\n",
              "    }\n",
              "    80% {\n",
              "      border-color: transparent;\n",
              "      border-right-color: var(--fill-color);\n",
              "      border-bottom-color: var(--fill-color);\n",
              "    }\n",
              "    90% {\n",
              "      border-color: transparent;\n",
              "      border-bottom-color: var(--fill-color);\n",
              "    }\n",
              "  }\n",
              "</style>\n",
              "\n",
              "  <script>\n",
              "    async function quickchart(key) {\n",
              "      const quickchartButtonEl =\n",
              "        document.querySelector('#' + key + ' button');\n",
              "      quickchartButtonEl.disabled = true;  // To prevent multiple clicks.\n",
              "      quickchartButtonEl.classList.add('colab-df-spinner');\n",
              "      try {\n",
              "        const charts = await google.colab.kernel.invokeFunction(\n",
              "            'suggestCharts', [key], {});\n",
              "      } catch (error) {\n",
              "        console.error('Error during call to suggestCharts:', error);\n",
              "      }\n",
              "      quickchartButtonEl.classList.remove('colab-df-spinner');\n",
              "      quickchartButtonEl.classList.add('colab-df-quickchart-complete');\n",
              "    }\n",
              "    (() => {\n",
              "      let quickchartButtonEl =\n",
              "        document.querySelector('#df-8486be27-4e10-4535-b932-f78d9c2b689f button');\n",
              "      quickchartButtonEl.style.display =\n",
              "        google.colab.kernel.accessAllowed ? 'block' : 'none';\n",
              "    })();\n",
              "  </script>\n",
              "</div>\n",
              "\n",
              "  <div id=\"id_c13ea632-74ab-4339-bf4f-9abc171595f2\">\n",
              "    <style>\n",
              "      .colab-df-generate {\n",
              "        background-color: #E8F0FE;\n",
              "        border: none;\n",
              "        border-radius: 50%;\n",
              "        cursor: pointer;\n",
              "        display: none;\n",
              "        fill: #1967D2;\n",
              "        height: 32px;\n",
              "        padding: 0 0 0 0;\n",
              "        width: 32px;\n",
              "      }\n",
              "\n",
              "      .colab-df-generate:hover {\n",
              "        background-color: #E2EBFA;\n",
              "        box-shadow: 0px 1px 2px rgba(60, 64, 67, 0.3), 0px 1px 3px 1px rgba(60, 64, 67, 0.15);\n",
              "        fill: #174EA6;\n",
              "      }\n",
              "\n",
              "      [theme=dark] .colab-df-generate {\n",
              "        background-color: #3B4455;\n",
              "        fill: #D2E3FC;\n",
              "      }\n",
              "\n",
              "      [theme=dark] .colab-df-generate:hover {\n",
              "        background-color: #434B5C;\n",
              "        box-shadow: 0px 1px 3px 1px rgba(0, 0, 0, 0.15);\n",
              "        filter: drop-shadow(0px 1px 2px rgba(0, 0, 0, 0.3));\n",
              "        fill: #FFFFFF;\n",
              "      }\n",
              "    </style>\n",
              "    <button class=\"colab-df-generate\" onclick=\"generateWithVariable('columns')\"\n",
              "            title=\"Generate code using this dataframe.\"\n",
              "            style=\"display:none;\">\n",
              "\n",
              "  <svg xmlns=\"http://www.w3.org/2000/svg\" height=\"24px\"viewBox=\"0 0 24 24\"\n",
              "       width=\"24px\">\n",
              "    <path d=\"M7,19H8.4L18.45,9,17,7.55,7,17.6ZM5,21V16.75L18.45,3.32a2,2,0,0,1,2.83,0l1.4,1.43a1.91,1.91,0,0,1,.58,1.4,1.91,1.91,0,0,1-.58,1.4L9.25,21ZM18.45,9,17,7.55Zm-12,3A5.31,5.31,0,0,0,4.9,8.1,5.31,5.31,0,0,0,1,6.5,5.31,5.31,0,0,0,4.9,4.9,5.31,5.31,0,0,0,6.5,1,5.31,5.31,0,0,0,8.1,4.9,5.31,5.31,0,0,0,12,6.5,5.46,5.46,0,0,0,6.5,12Z\"/>\n",
              "  </svg>\n",
              "    </button>\n",
              "    <script>\n",
              "      (() => {\n",
              "      const buttonEl =\n",
              "        document.querySelector('#id_c13ea632-74ab-4339-bf4f-9abc171595f2 button.colab-df-generate');\n",
              "      buttonEl.style.display =\n",
              "        google.colab.kernel.accessAllowed ? 'block' : 'none';\n",
              "\n",
              "      buttonEl.onclick = () => {\n",
              "        google.colab.notebook.generateWithVariable('columns');\n",
              "      }\n",
              "      })();\n",
              "    </script>\n",
              "  </div>\n",
              "\n",
              "    </div>\n",
              "  </div>\n"
            ],
            "application/vnd.google.colaboratory.intrinsic+json": {
              "type": "dataframe",
              "variable_name": "columns",
              "summary": "{\n  \"name\": \"columns\",\n  \"rows\": 182,\n  \"fields\": [\n    {\n      \"column\": \"genre\",\n      \"properties\": {\n        \"dtype\": \"category\",\n        \"num_unique_values\": 2,\n        \"samples\": [\n          \"Rock\",\n          \"Country\"\n        ],\n        \"semantic_type\": \"\",\n        \"description\": \"\"\n      }\n    },\n    {\n      \"column\": \"lyrics\",\n      \"properties\": {\n        \"dtype\": \"string\",\n        \"num_unique_values\": 182,\n        \"samples\": [\n          \" I had a friend named Ramblin Bob Who used to steal, gamble and rob He thought he was the smartest guy in town  But I found out last Monday That Bob got locked up Sunday Theyve got him in the jailhouse way down town  Hes in the jailhouse now, hes in the jailhouse now I told him once or twice To quit playin cards and shootin dice Hes in the jailhouse now  He played a game called his Poker He knock on Whist and Euchre But shootin dice was his greatest game  Now hes down town in jail Nobody to go his bail The judge done said that he refused the fine  Hes in the jailhouse now, hes in the jailhouse now I told him once or twice To quit playin cards and shootin dice Hes in the jailhouse now  I went out last Tuesday Met a girl named Susie I told her I was the swellest man around  We started to spend my money Then she started to call me honey We took in every cabaret in town  Were in the jailhouse now, were in the jailhouse now I told the judge right to his face We didnt like to see this place Were in the jailhouse now \",\n          \" Say Hey, Good Lookin, whatcha got cookin Hows about cookin somethin up with me Hey, sweet baby, dont you think maybe We could find us a brand new recipe  I got a hot rod Ford and a two dollar bill And I know a spot right over the hill Theres soda pop and the dancins free So if you wanna have fun come along with me  Say Hey, Good Lookin, whatcha got cookin Hows about cookin somethin up with me  Im free and ready so we can go steady Hows about savin all your time for me No more lookin, I know Ive tooken Hows about keepin steady company  Im gonna throw my date book over the fence And find me one for five or ten cents. Ill keep it til its covered with age Cause Im writin your name down on evry page Say Hey, Good Lookin, whatcha got cookin Hows about cookin somethin up with me. \"\n        ],\n        \"semantic_type\": \"\",\n        \"description\": \"\"\n      }\n    },\n    {\n      \"column\": \"lowered\",\n      \"properties\": {\n        \"dtype\": \"string\",\n        \"num_unique_values\": 182,\n        \"samples\": [\n          \" i had a friend named ramblin bob who used to steal, gamble and rob he thought he was the smartest guy in town  but i found out last monday that bob got locked up sunday theyve got him in the jailhouse way down town  hes in the jailhouse now, hes in the jailhouse now i told him once or twice to quit playin cards and shootin dice hes in the jailhouse now  he played a game called his poker he knock on whist and euchre but shootin dice was his greatest game  now hes down town in jail nobody to go his bail the judge done said that he refused the fine  hes in the jailhouse now, hes in the jailhouse now i told him once or twice to quit playin cards and shootin dice hes in the jailhouse now  i went out last tuesday met a girl named susie i told her i was the swellest man around  we started to spend my money then she started to call me honey we took in every cabaret in town  were in the jailhouse now, were in the jailhouse now i told the judge right to his face we didnt like to see this place were in the jailhouse now \",\n          \" say hey, good lookin, whatcha got cookin hows about cookin somethin up with me hey, sweet baby, dont you think maybe we could find us a brand new recipe  i got a hot rod ford and a two dollar bill and i know a spot right over the hill theres soda pop and the dancins free so if you wanna have fun come along with me  say hey, good lookin, whatcha got cookin hows about cookin somethin up with me  im free and ready so we can go steady hows about savin all your time for me no more lookin, i know ive tooken hows about keepin steady company  im gonna throw my date book over the fence and find me one for five or ten cents. ill keep it til its covered with age cause im writin your name down on evry page say hey, good lookin, whatcha got cookin hows about cookin somethin up with me. \"\n        ],\n        \"semantic_type\": \"\",\n        \"description\": \"\"\n      }\n    }\n  ]\n}"
            }
          },
          "metadata": {},
          "execution_count": 3
        }
      ],
      "source": [
        "import pandas as pd\n",
        "from pandas.core.common import flatten\n",
        "from google.colab import drive\n",
        "drive.mount('/content/drive/')\n",
        "data = pd.read_csv(\"/content/drive/MyDrive/кз3-2/dataset.csv\")\n",
        "columns = data[['genre', 'lyrics']]\n",
        "columns = columns[(columns.genre == 'Rock') | (columns.genre == 'Country')]\n",
        "\n",
        "columns['lowered'] = columns['lyrics'].str.lower()\n",
        "columns"
      ]
    },
    {
      "cell_type": "markdown",
      "metadata": {
        "id": "ZnYH33ARj4e-"
      },
      "source": [
        "*Токенизация*"
      ]
    },
    {
      "cell_type": "markdown",
      "metadata": {
        "id": "TCFc_BYgTYot"
      },
      "source": []
    },
    {
      "cell_type": "code",
      "execution_count": 4,
      "metadata": {
        "id": "i2CA_a8DjZq7",
        "colab": {
          "base_uri": "https://localhost:8080/"
        },
        "outputId": "8aacbdfd-19fa-4829-e89e-90422636eee5"
      },
      "outputs": [
        {
          "output_type": "stream",
          "name": "stderr",
          "text": [
            "[nltk_data] Downloading package punkt to /root/nltk_data...\n",
            "[nltk_data]   Unzipping tokenizers/punkt.zip.\n"
          ]
        }
      ],
      "source": [
        "import nltk\n",
        "from nltk.tokenize import word_tokenize\n",
        "nltk.download('punkt')\n",
        "tokened = columns.apply(lambda row: nltk.word_tokenize(row['lowered']), axis=1)\n",
        "columns['tokened'] = tokened"
      ]
    },
    {
      "cell_type": "markdown",
      "metadata": {
        "id": "DJI5ARGDkRZs"
      },
      "source": [
        "Удаление стоп-слов"
      ]
    },
    {
      "cell_type": "code",
      "execution_count": 5,
      "metadata": {
        "colab": {
          "base_uri": "https://localhost:8080/"
        },
        "id": "o5nfwRPSjjdJ",
        "outputId": "a662fca6-b64b-47ee-90e6-dd25a2cdf369"
      },
      "outputs": [
        {
          "output_type": "stream",
          "name": "stderr",
          "text": [
            "[nltk_data] Downloading package stopwords to /root/nltk_data...\n",
            "[nltk_data]   Unzipping corpora/stopwords.zip.\n"
          ]
        }
      ],
      "source": [
        "nltk.download('stopwords')\n",
        "from nltk.corpus import stopwords\n"
      ]
    },
    {
      "cell_type": "code",
      "execution_count": 6,
      "metadata": {
        "id": "wOdiGB8tjxcu"
      },
      "outputs": [],
      "source": [
        "noise = stopwords.words('english')\n",
        "withoutstop = columns['tokened'].apply(lambda x: [item for item in x if item not in noise])\n",
        "without_stop = []\n",
        "for a in withoutstop:\n",
        "    without_stop.append(\", \".join(a))\n",
        "columns['without_stop'] = without_stop"
      ]
    },
    {
      "cell_type": "markdown",
      "metadata": {
        "id": "NiWXAS7vkUmW"
      },
      "source": [
        "Лемматизация"
      ]
    },
    {
      "cell_type": "code",
      "execution_count": 7,
      "metadata": {
        "id": "gta_y3VHj1KR",
        "colab": {
          "base_uri": "https://localhost:8080/"
        },
        "outputId": "e7cfa7cb-9f3e-48b1-a65f-535f647007d2"
      },
      "outputs": [
        {
          "output_type": "stream",
          "name": "stderr",
          "text": [
            "[nltk_data] Downloading package wordnet to /root/nltk_data...\n"
          ]
        }
      ],
      "source": [
        "from nltk.stem import WordNetLemmatizer\n",
        "nltk.download('wordnet')\n",
        "lemmatizer = WordNetLemmatizer()"
      ]
    },
    {
      "cell_type": "code",
      "execution_count": 8,
      "metadata": {
        "id": "wVahFd0Qj3S8"
      },
      "outputs": [],
      "source": [
        "lemmatized = columns['without_stop'].apply(lambda x: [lemmatizer.lemmatize(x)])\n",
        "lemma = []\n",
        "for a in lemmatized:\n",
        "    lemma.append(\", \".join(a))\n",
        "columns['lemmatized'] = lemma"
      ]
    },
    {
      "cell_type": "markdown",
      "metadata": {
        "id": "0zdmXqQsk9FY"
      },
      "source": [
        "Разделение данных"
      ]
    },
    {
      "cell_type": "code",
      "execution_count": 9,
      "metadata": {
        "id": "DTHHCjZUkhmO",
        "colab": {
          "base_uri": "https://localhost:8080/"
        },
        "outputId": "3828334f-bf9d-4472-d9d7-603612b05225"
      },
      "outputs": [
        {
          "output_type": "execute_result",
          "data": {
            "text/plain": [
              "Rock       95\n",
              "Country    87\n",
              "Name: genre, dtype: int64"
            ]
          },
          "metadata": {},
          "execution_count": 9
        }
      ],
      "source": [
        "from sklearn.model_selection import train_test_split\n",
        "x_train, x_test, y_train, y_test = train_test_split(columns.lemmatized, columns.genre, train_size = 0.7)\n",
        "columns.genre.value_counts()"
      ]
    },
    {
      "cell_type": "markdown",
      "metadata": {
        "id": "b2p2wpOClLVx"
      },
      "source": [
        "Векторизация"
      ]
    },
    {
      "cell_type": "code",
      "execution_count": 10,
      "metadata": {
        "id": "I3T9yG_FlKWb"
      },
      "outputs": [],
      "source": [
        "from sklearn.feature_extraction.text import CountVectorizer\n",
        "vectorizer = CountVectorizer(ngram_range=(1, 3))\n",
        "vectorized_x_train = vectorizer.fit_transform(x_train)"
      ]
    },
    {
      "cell_type": "markdown",
      "metadata": {
        "id": "1QEGphj8lRkW"
      },
      "source": [
        "Классификация"
      ]
    },
    {
      "cell_type": "code",
      "execution_count": 11,
      "metadata": {
        "id": "sFIDzJSAlQ3K"
      },
      "outputs": [],
      "source": [
        "from sklearn.naive_bayes import MultinomialNB\n",
        "clf = MultinomialNB()\n",
        "clf.fit(vectorized_x_train, y_train)\n",
        "vectorized_x_test = vectorizer.transform(x_test)"
      ]
    },
    {
      "cell_type": "markdown",
      "metadata": {
        "id": "Kk4wEc_6loL4"
      },
      "source": [
        "Оценка классификации"
      ]
    },
    {
      "cell_type": "code",
      "execution_count": 12,
      "metadata": {
        "id": "fOsoS6aTlu7z",
        "colab": {
          "base_uri": "https://localhost:8080/"
        },
        "outputId": "b750b0a8-b4f6-4518-8251-21a82edc6dcd"
      },
      "outputs": [
        {
          "output_type": "stream",
          "name": "stdout",
          "text": [
            "              precision    recall  f1-score   support\n",
            "\n",
            "     Country       0.79      0.41      0.54        27\n",
            "        Rock       0.61      0.89      0.72        28\n",
            "\n",
            "    accuracy                           0.65        55\n",
            "   macro avg       0.70      0.65      0.63        55\n",
            "weighted avg       0.70      0.65      0.63        55\n",
            "\n"
          ]
        }
      ],
      "source": [
        "from sklearn.metrics import *\n",
        "pred = clf.predict(vectorized_x_test)\n",
        "print(classification_report(y_test, pred))"
      ]
    },
    {
      "cell_type": "markdown",
      "metadata": {
        "id": "wI1rVEg_kwCf"
      },
      "source": [
        "# 2."
      ]
    },
    {
      "cell_type": "markdown",
      "metadata": {
        "id": "bWdnLBHf_onv"
      },
      "source": [
        "2) Найти (нагуглить) по песне каждого из жанров, которые Вам достались, после необходимой обработки их текстов определить жанр обеих песен с помощью обученной в ходе выполнения предыдущего пункта модели."
      ]
    },
    {
      "cell_type": "code",
      "execution_count": 13,
      "metadata": {
        "id": "qHHk6-MfpFkS",
        "colab": {
          "base_uri": "https://localhost:8080/"
        },
        "outputId": "11533456-2fb6-473b-b37f-b6d153365600"
      },
      "outputs": [
        {
          "output_type": "execute_result",
          "data": {
            "text/plain": [
              "array(['Rock'], dtype='<U7')"
            ]
          },
          "metadata": {},
          "execution_count": 13
        }
      ],
      "source": [
        "music = ['I look at you and my blood boils hot, I feel my temperature rise I want it all, give me what you got, there is hunger in your eyes I am getting closer, baby hear me breathe You know the way to give me what I need Just let me love you and you will never leave Feel my heat taking you higher, Burn with me, Heaven is on fire Paint the sky with desire, Angel fly, Heaven is on fire I got a fever raging in my heart, You make me shiver and shake Baby do not stop, take it to the top, Eat it like a piece of cake You are coming closer, I can hear your breath You drive me crazy when you start to tease You could bring a devil to his knees Feel my heat taking you higher, Burn with me, Heaven is on fire Paint the sky with desire, Angel fly, Heaven is on fire Oho Heaven is on fire, oho Heaven is on fire, oho']\n",
        "#нижний регистр\n",
        "music_lower = list(map(str.lower, music))\n",
        "#токенизация\n",
        "music_tok = [nltk.word_tokenize(i) for i in music_lower]\n",
        "music_tokened = list(flatten(music_tok))\n",
        "#удаление стоп-слов\n",
        "music_withoutstop = list(set(music_tokened) - set(noise))\n",
        "#лемматизация\n",
        "music_pro = [lemmatizer.lemmatize(i) for i in music_withoutstop]\n",
        "\n",
        "#векторизация\n",
        "vectorized_mus = vectorizer.transform(music)\n",
        "clf.predict(vectorized_mus)\n"
      ]
    },
    {
      "cell_type": "markdown",
      "metadata": {
        "id": "-o3_83FKK9R4"
      },
      "source": [
        "# 3."
      ]
    },
    {
      "cell_type": "markdown",
      "metadata": {
        "id": "WtmpuwX6AZy6"
      },
      "source": [
        "3) С помощью набора данных по ссылке аналогичным образом научить модель отличать тексты песен Дэвида Боуи от текстов песен Пола МакКартни\n",
        "https://www.kaggle.com/italomarcelo/dataset-lyrics-music-mini"
      ]
    },
    {
      "cell_type": "code",
      "execution_count": 15,
      "metadata": {
        "colab": {
          "base_uri": "https://localhost:8080/"
        },
        "id": "ShnlTrZkK9R5",
        "outputId": "682c67a0-ce54-45bf-ac7a-0acb6339d302"
      },
      "outputs": [
        {
          "output_type": "stream",
          "name": "stdout",
          "text": [
            "Drive already mounted at /content/drive/; to attempt to forcibly remount, call drive.mount(\"/content/drive/\", force_remount=True).\n"
          ]
        }
      ],
      "source": [
        "import pandas as pd\n",
        "from pandas.core.common import flatten\n",
        "from google.colab import drive\n",
        "drive.mount('/content/drive/')\n",
        "dat = pd.read_csv(\"/content/drive/MyDrive/кз3-2/dataset-lyrics-musics-mini.csv\")\n",
        "columns = dat[['cantorNome', 'letra']]\n",
        "columns = columns[(columns.cantorNome == 'evanescence') | (columns.cantorNome == 'ac-dc')]\n",
        "\n",
        "columns['lowered'] = columns['letra'].str.lower()"
      ]
    },
    {
      "cell_type": "markdown",
      "metadata": {
        "id": "-o377PHZK9R6"
      },
      "source": [
        "*Токенизация*"
      ]
    },
    {
      "cell_type": "code",
      "execution_count": 16,
      "metadata": {
        "colab": {
          "base_uri": "https://localhost:8080/"
        },
        "id": "aHUS4l81K9R6",
        "outputId": "ed335f44-fdb6-44b2-caff-ca8ec8577404"
      },
      "outputs": [
        {
          "output_type": "stream",
          "name": "stderr",
          "text": [
            "[nltk_data] Downloading package punkt to /root/nltk_data...\n",
            "[nltk_data]   Package punkt is already up-to-date!\n"
          ]
        }
      ],
      "source": [
        "import nltk\n",
        "from nltk.tokenize import word_tokenize\n",
        "nltk.download('punkt')\n",
        "tokened = columns.apply(lambda row: nltk.word_tokenize(row['lowered']), axis=1)\n",
        "columns['tokened'] = tokened"
      ]
    },
    {
      "cell_type": "markdown",
      "metadata": {
        "id": "FN1MUlQuK9R6"
      },
      "source": [
        "Удаление стоп-слов"
      ]
    },
    {
      "cell_type": "code",
      "execution_count": 17,
      "metadata": {
        "colab": {
          "base_uri": "https://localhost:8080/"
        },
        "id": "DN5e_QAzK9R6",
        "outputId": "267944e0-0e9e-485b-e1f8-5761e98a34e4"
      },
      "outputs": [
        {
          "output_type": "stream",
          "name": "stderr",
          "text": [
            "[nltk_data] Downloading package stopwords to /root/nltk_data...\n",
            "[nltk_data]   Package stopwords is already up-to-date!\n"
          ]
        }
      ],
      "source": [
        "nltk.download('stopwords')\n",
        "from nltk.corpus import stopwords"
      ]
    },
    {
      "cell_type": "code",
      "execution_count": 18,
      "metadata": {
        "id": "brNL9UUEK9R6"
      },
      "outputs": [],
      "source": [
        "noise = stopwords.words('english')\n",
        "withoutstop = columns['tokened'].apply(lambda x: [item for item in x if item not in noise])\n",
        "without_stop = []\n",
        "for a in withoutstop:\n",
        "    without_stop.append(\", \".join(a))\n",
        "columns['without_stop'] = without_stop"
      ]
    },
    {
      "cell_type": "markdown",
      "metadata": {
        "id": "bq3QzxRuK9R6"
      },
      "source": [
        "Лемматизация"
      ]
    },
    {
      "cell_type": "code",
      "execution_count": 19,
      "metadata": {
        "id": "PIzTKuvEK9R6",
        "colab": {
          "base_uri": "https://localhost:8080/"
        },
        "outputId": "8654f567-b886-4018-f836-e031011f86cc"
      },
      "outputs": [
        {
          "output_type": "stream",
          "name": "stderr",
          "text": [
            "[nltk_data] Downloading package wordnet to /root/nltk_data...\n",
            "[nltk_data]   Package wordnet is already up-to-date!\n"
          ]
        }
      ],
      "source": [
        "from nltk.stem import WordNetLemmatizer\n",
        "nltk.download('wordnet')\n",
        "lemmatizer = WordNetLemmatizer()"
      ]
    },
    {
      "cell_type": "code",
      "execution_count": 20,
      "metadata": {
        "id": "xSzyIolyK9R7"
      },
      "outputs": [],
      "source": [
        "lemmatized = columns['without_stop'].apply(lambda x: [lemmatizer.lemmatize(x)])\n",
        "lemma = []\n",
        "for a in lemmatized:\n",
        "    lemma.append(\", \".join(a))\n",
        "columns['lemmatized'] = lemma"
      ]
    },
    {
      "cell_type": "markdown",
      "metadata": {
        "id": "HE4PDjq6K9R7"
      },
      "source": [
        "Разделение данных"
      ]
    },
    {
      "cell_type": "markdown",
      "metadata": {
        "id": "ZYJA4POGTymQ"
      },
      "source": []
    },
    {
      "cell_type": "code",
      "execution_count": 21,
      "metadata": {
        "id": "LuExKPBVK9R7",
        "colab": {
          "base_uri": "https://localhost:8080/"
        },
        "outputId": "e8597fd4-d12b-4d91-fcdd-ae15e0f527e5"
      },
      "outputs": [
        {
          "output_type": "execute_result",
          "data": {
            "text/plain": [
              "ac-dc          217\n",
              "evanescence    154\n",
              "Name: cantorNome, dtype: int64"
            ]
          },
          "metadata": {},
          "execution_count": 21
        }
      ],
      "source": [
        "from sklearn.model_selection import train_test_split\n",
        "x_train, x_test, y_train, y_test = train_test_split(columns.lemmatized, columns.cantorNome, train_size = 0.7)\n",
        "columns.cantorNome.value_counts()"
      ]
    },
    {
      "cell_type": "markdown",
      "metadata": {
        "id": "3bdzQxwtK9R7"
      },
      "source": [
        "Векторизация"
      ]
    },
    {
      "cell_type": "code",
      "execution_count": 22,
      "metadata": {
        "id": "Xdi40suwK9R7"
      },
      "outputs": [],
      "source": [
        "from sklearn.feature_extraction.text import CountVectorizer\n",
        "vectorizer = CountVectorizer(ngram_range=(1, 3))\n",
        "vectorized_x_train = vectorizer.fit_transform(x_train)"
      ]
    },
    {
      "cell_type": "markdown",
      "metadata": {
        "id": "znQekWmJK9R7"
      },
      "source": [
        "Классификация"
      ]
    },
    {
      "cell_type": "code",
      "execution_count": 23,
      "metadata": {
        "id": "cl60JpH2K9R7"
      },
      "outputs": [],
      "source": [
        "from sklearn.naive_bayes import MultinomialNB\n",
        "clf = MultinomialNB()\n",
        "clf.fit(vectorized_x_train, y_train)\n",
        "vectorized_x_test = vectorizer.transform(x_test)"
      ]
    },
    {
      "cell_type": "markdown",
      "metadata": {
        "id": "JbU2PCsfK9R7"
      },
      "source": [
        "Оценка классификации"
      ]
    },
    {
      "cell_type": "code",
      "execution_count": 24,
      "metadata": {
        "id": "dm8ibQEWK9R8",
        "colab": {
          "base_uri": "https://localhost:8080/"
        },
        "outputId": "606db198-24e4-45c7-a736-5a6e9181228f"
      },
      "outputs": [
        {
          "output_type": "stream",
          "name": "stdout",
          "text": [
            "              precision    recall  f1-score   support\n",
            "\n",
            "       ac-dc       0.90      0.98      0.94        55\n",
            " evanescence       0.98      0.89      0.94        57\n",
            "\n",
            "    accuracy                           0.94       112\n",
            "   macro avg       0.94      0.94      0.94       112\n",
            "weighted avg       0.94      0.94      0.94       112\n",
            "\n"
          ]
        }
      ],
      "source": [
        "from sklearn.metrics import *\n",
        "pred = clf.predict(vectorized_x_test)\n",
        "print(classification_report(y_test, pred))"
      ]
    },
    {
      "cell_type": "markdown",
      "metadata": {
        "id": "RW6n0b0zsgDX"
      },
      "source": [
        "# Задание\n",
        "1. Найти (нагуглить) по песне каждого из жанров, которые Вам достались, после необходимой обработки текстов определить жанр обеих песен с помощью обученной  модели в ходе выполнения пункта `1` в Notebook `Контроль знаний 3-2.ipynb`.\n",
        "\n",
        "Провести Анализ всез жанров песен в тестовом датасете:\n",
        "- `Christian`,\n",
        "- `Country`,\n",
        "- `Hip-Hop`,\n",
        "- `Pop`,\n",
        "- `Rock`,\n",
        "- `R&B`.\n",
        "\n",
        "2. Научить модель отличать тексты песен двух певцов(выбрать самостоятельно) примере пункта `3` в Notebook `Контроль знаний 3-2.ipynb`."
      ]
    }
  ],
  "metadata": {
    "colab": {
      "provenance": [],
      "include_colab_link": true
    },
    "kernelspec": {
      "display_name": "Python 3",
      "name": "python3"
    },
    "language_info": {
      "name": "python"
    }
  },
  "nbformat": 4,
  "nbformat_minor": 0
}